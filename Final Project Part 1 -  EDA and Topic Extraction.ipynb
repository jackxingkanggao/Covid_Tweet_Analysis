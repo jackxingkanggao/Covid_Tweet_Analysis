{
 "cells": [
  {
   "cell_type": "markdown",
   "id": "elect-repository",
   "metadata": {},
   "source": [
    "### Objective\n",
    "- to use NLP on tweets to find the top 3 trending topics related to Covid and corresponding sentiments and insights."
   ]
  },
  {
   "cell_type": "markdown",
   "id": "wrong-permit",
   "metadata": {},
   "source": [
    "Task 1 \n",
    "- use your data engineering skills to download tweets data \n",
    "- apply for Twitter developer account https://developer.twitter.com/en/apply-for-access (Links to an external site.)\n",
    "\n",
    "Task 2 \n",
    "- familiarize with NLP at https://nlp.johnsnowlabs.com/ (Links to an external site.) \n",
    "- the license details to use NLP for healthcare is given below\n",
    "\n",
    "Deliverables:\n",
    "- EDA: analyze and plot your data\n",
    "- Topics: use NLP to find the top 3 trending topics related to Covid-19\n",
    "- Sentiments: use NLP to understand the sentiments of the top 3 topics\n",
    "- Insights: use NLP to discover insights/information on the top 3 topics\n",
    "\n",
    "Submissions:\n",
    "- your code\n",
    "- your PPT that will be presented in class"
   ]
  },
  {
   "cell_type": "markdown",
   "id": "further-while",
   "metadata": {},
   "source": [
    "### Step 0: Clean Up"
   ]
  },
  {
   "cell_type": "code",
   "execution_count": 1,
   "id": "preceding-muslim",
   "metadata": {},
   "outputs": [
    {
     "name": "stderr",
     "output_type": "stream",
     "text": [
      "[nltk_data] Downloading package punkt to /Users/Xingkang/nltk_data...\n",
      "[nltk_data]   Package punkt is already up-to-date!\n",
      "[nltk_data] Downloading package stopwords to\n",
      "[nltk_data]     /Users/Xingkang/nltk_data...\n",
      "[nltk_data]   Package stopwords is already up-to-date!\n"
     ]
    }
   ],
   "source": [
    "import pandas as pd\n",
    "import numpy as np\n",
    "import matplotlib.pyplot as plt\n",
    "import seaborn as sns\n",
    "import re\n",
    "from textblob import TextBlob\n",
    "\n",
    "import nltk\n",
    "from nltk.corpus import stopwords\n",
    "from nltk.tokenize import word_tokenize\n",
    "nltk.download('punkt')\n",
    "nltk.download('stopwords')\n",
    "stop_words = stopwords.words('english')"
   ]
  },
  {
   "cell_type": "code",
   "execution_count": 2,
   "id": "strong-security",
   "metadata": {},
   "outputs": [],
   "source": [
    "tweet =  pd.read_csv('Covid_Tweets.csv')"
   ]
  },
  {
   "cell_type": "code",
   "execution_count": 3,
   "id": "public-southeast",
   "metadata": {
    "scrolled": true
   },
   "outputs": [
    {
     "data": {
      "text/html": [
       "<div>\n",
       "<style scoped>\n",
       "    .dataframe tbody tr th:only-of-type {\n",
       "        vertical-align: middle;\n",
       "    }\n",
       "\n",
       "    .dataframe tbody tr th {\n",
       "        vertical-align: top;\n",
       "    }\n",
       "\n",
       "    .dataframe thead th {\n",
       "        text-align: right;\n",
       "    }\n",
       "</style>\n",
       "<table border=\"1\" class=\"dataframe\">\n",
       "  <thead>\n",
       "    <tr style=\"text-align: right;\">\n",
       "      <th></th>\n",
       "      <th>Tweets</th>\n",
       "    </tr>\n",
       "  </thead>\n",
       "  <tbody>\n",
       "    <tr>\n",
       "      <th>0</th>\n",
       "      <td>: The number of people in Virginia who have be...</td>\n",
       "    </tr>\n",
       "    <tr>\n",
       "      <th>1</th>\n",
       "      <td>WE DO NOT HAVE TO LIVE WITH COVID-19All of the...</td>\n",
       "    </tr>\n",
       "    <tr>\n",
       "      <th>2</th>\n",
       "      <td>The point is that more than % of this bill sho...</td>\n",
       "    </tr>\n",
       "    <tr>\n",
       "      <th>3</th>\n",
       "      <td>: You just stepped all over your entire show o...</td>\n",
       "    </tr>\n",
       "    <tr>\n",
       "      <th>4</th>\n",
       "      <td>: People who work full time should be able to ...</td>\n",
       "    </tr>\n",
       "    <tr>\n",
       "      <th>5</th>\n",
       "      <td>: RT if you agree Democrats should immediately...</td>\n",
       "    </tr>\n",
       "    <tr>\n",
       "      <th>6</th>\n",
       "      <td>: Update: Weve secured million doses of AstraZ...</td>\n",
       "    </tr>\n",
       "    <tr>\n",
       "      <th>7</th>\n",
       "      <td>: [ENG TRANSLATION]tw // racisma german radio ...</td>\n",
       "    </tr>\n",
       "    <tr>\n",
       "      <th>8</th>\n",
       "      <td>: A German radio presenter equating the South ...</td>\n",
       "    </tr>\n",
       "    <tr>\n",
       "      <th>9</th>\n",
       "      <td>He should have a cute little COVID hat and mask.</td>\n",
       "    </tr>\n",
       "  </tbody>\n",
       "</table>\n",
       "</div>"
      ],
      "text/plain": [
       "                                              Tweets\n",
       "0  : The number of people in Virginia who have be...\n",
       "1  WE DO NOT HAVE TO LIVE WITH COVID-19All of the...\n",
       "2  The point is that more than % of this bill sho...\n",
       "3  : You just stepped all over your entire show o...\n",
       "4  : People who work full time should be able to ...\n",
       "5  : RT if you agree Democrats should immediately...\n",
       "6  : Update: Weve secured million doses of AstraZ...\n",
       "7  : [ENG TRANSLATION]tw // racisma german radio ...\n",
       "8  : A German radio presenter equating the South ...\n",
       "9   He should have a cute little COVID hat and mask."
      ]
     },
     "execution_count": 3,
     "metadata": {},
     "output_type": "execute_result"
    }
   ],
   "source": [
    "tweet.head(10)"
   ]
  },
  {
   "cell_type": "code",
   "execution_count": 4,
   "id": "absent-diversity",
   "metadata": {},
   "outputs": [],
   "source": [
    "# import string\n",
    "# string.punctuation\n",
    "\n",
    "# Normalization\n",
    "\n",
    "import re\n",
    "\n",
    "def normalization(text):\n",
    "    text = text.lower()\n",
    "    text = re.sub(r\"(@[A-Za-z0-9]+)|([^0-9A-Za-z \\t])|(\\w+:\\/\\/\\S+)|^rt|http.+?\", \"\", text)\n",
    "\n",
    "    #nopunct = [w for w in words if w not in string.punctuation]\n",
    "    return text"
   ]
  },
  {
   "cell_type": "code",
   "execution_count": 5,
   "id": "latter-delay",
   "metadata": {},
   "outputs": [],
   "source": [
    "# Remove Stopwords\n",
    "\n",
    "def remove_stopwords(text):\n",
    "    words = word_tokenize(text)\n",
    "    nostopwords = [w for w in words if w not in stop_words]\n",
    "    return (' '.join(nostopwords))"
   ]
  },
  {
   "cell_type": "code",
   "execution_count": 6,
   "id": "tamil-recycling",
   "metadata": {},
   "outputs": [],
   "source": [
    "tweet['Cleaned_Tweets'] = tweet['Tweets'].apply(lambda x: normalization(x))\n",
    "tweet['Cleaned_Tweets'] = tweet['Cleaned_Tweets'].apply(lambda x: remove_stopwords(x))\n",
    "tweet['Cleaned_Tokens'] = tweet['Cleaned_Tweets'].apply(lambda x: word_tokenize(x))"
   ]
  },
  {
   "cell_type": "code",
   "execution_count": 7,
   "id": "sonic-favor",
   "metadata": {},
   "outputs": [
    {
     "data": {
      "text/html": [
       "<div>\n",
       "<style scoped>\n",
       "    .dataframe tbody tr th:only-of-type {\n",
       "        vertical-align: middle;\n",
       "    }\n",
       "\n",
       "    .dataframe tbody tr th {\n",
       "        vertical-align: top;\n",
       "    }\n",
       "\n",
       "    .dataframe thead th {\n",
       "        text-align: right;\n",
       "    }\n",
       "</style>\n",
       "<table border=\"1\" class=\"dataframe\">\n",
       "  <thead>\n",
       "    <tr style=\"text-align: right;\">\n",
       "      <th></th>\n",
       "      <th>Tweets</th>\n",
       "      <th>Cleaned_Tweets</th>\n",
       "      <th>Cleaned_Tokens</th>\n",
       "    </tr>\n",
       "  </thead>\n",
       "  <tbody>\n",
       "    <tr>\n",
       "      <th>0</th>\n",
       "      <td>: The number of people in Virginia who have be...</td>\n",
       "      <td>number people virginia fully vaccinated surpas...</td>\n",
       "      <td>[number, people, virginia, fully, vaccinated, ...</td>\n",
       "    </tr>\n",
       "    <tr>\n",
       "      <th>1</th>\n",
       "      <td>WE DO NOT HAVE TO LIVE WITH COVID-19All of the...</td>\n",
       "      <td>live covid19all deaths next months preventable...</td>\n",
       "      <td>[live, covid19all, deaths, next, months, preve...</td>\n",
       "    </tr>\n",
       "    <tr>\n",
       "      <th>2</th>\n",
       "      <td>The point is that more than % of this bill sho...</td>\n",
       "      <td>point bill go covid going noncovid garbage rep...</td>\n",
       "      <td>[point, bill, go, covid, going, noncovid, garb...</td>\n",
       "    </tr>\n",
       "    <tr>\n",
       "      <th>3</th>\n",
       "      <td>: You just stepped all over your entire show o...</td>\n",
       "      <td>stepped entire show way door vaccine far scari...</td>\n",
       "      <td>[stepped, entire, show, way, door, vaccine, fa...</td>\n",
       "    </tr>\n",
       "    <tr>\n",
       "      <th>4</th>\n",
       "      <td>: People who work full time should be able to ...</td>\n",
       "      <td>people work full time able make living wage do...</td>\n",
       "      <td>[people, work, full, time, able, make, living,...</td>\n",
       "    </tr>\n",
       "    <tr>\n",
       "      <th>5</th>\n",
       "      <td>: RT if you agree Democrats should immediately...</td>\n",
       "      <td>rt agree democrats immediately remove everythi...</td>\n",
       "      <td>[rt, agree, democrats, immediately, remove, ev...</td>\n",
       "    </tr>\n",
       "    <tr>\n",
       "      <th>6</th>\n",
       "      <td>: Update: Weve secured million doses of AstraZ...</td>\n",
       "      <td>update weve secured million doses astrazenecas...</td>\n",
       "      <td>[update, weve, secured, million, doses, astraz...</td>\n",
       "    </tr>\n",
       "    <tr>\n",
       "      <th>7</th>\n",
       "      <td>: [ENG TRANSLATION]tw // racisma german radio ...</td>\n",
       "      <td>eng translationtw racisma german radio host ta...</td>\n",
       "      <td>[eng, translationtw, racisma, german, radio, h...</td>\n",
       "    </tr>\n",
       "    <tr>\n",
       "      <th>8</th>\n",
       "      <td>: A German radio presenter equating the South ...</td>\n",
       "      <td>german radio presenter equating south korean b...</td>\n",
       "      <td>[german, radio, presenter, equating, south, ko...</td>\n",
       "    </tr>\n",
       "    <tr>\n",
       "      <th>9</th>\n",
       "      <td>He should have a cute little COVID hat and mask.</td>\n",
       "      <td>cute little covid hat mask</td>\n",
       "      <td>[cute, little, covid, hat, mask]</td>\n",
       "    </tr>\n",
       "  </tbody>\n",
       "</table>\n",
       "</div>"
      ],
      "text/plain": [
       "                                              Tweets  \\\n",
       "0  : The number of people in Virginia who have be...   \n",
       "1  WE DO NOT HAVE TO LIVE WITH COVID-19All of the...   \n",
       "2  The point is that more than % of this bill sho...   \n",
       "3  : You just stepped all over your entire show o...   \n",
       "4  : People who work full time should be able to ...   \n",
       "5  : RT if you agree Democrats should immediately...   \n",
       "6  : Update: Weve secured million doses of AstraZ...   \n",
       "7  : [ENG TRANSLATION]tw // racisma german radio ...   \n",
       "8  : A German radio presenter equating the South ...   \n",
       "9   He should have a cute little COVID hat and mask.   \n",
       "\n",
       "                                      Cleaned_Tweets  \\\n",
       "0  number people virginia fully vaccinated surpas...   \n",
       "1  live covid19all deaths next months preventable...   \n",
       "2  point bill go covid going noncovid garbage rep...   \n",
       "3  stepped entire show way door vaccine far scari...   \n",
       "4  people work full time able make living wage do...   \n",
       "5  rt agree democrats immediately remove everythi...   \n",
       "6  update weve secured million doses astrazenecas...   \n",
       "7  eng translationtw racisma german radio host ta...   \n",
       "8  german radio presenter equating south korean b...   \n",
       "9                         cute little covid hat mask   \n",
       "\n",
       "                                      Cleaned_Tokens  \n",
       "0  [number, people, virginia, fully, vaccinated, ...  \n",
       "1  [live, covid19all, deaths, next, months, preve...  \n",
       "2  [point, bill, go, covid, going, noncovid, garb...  \n",
       "3  [stepped, entire, show, way, door, vaccine, fa...  \n",
       "4  [people, work, full, time, able, make, living,...  \n",
       "5  [rt, agree, democrats, immediately, remove, ev...  \n",
       "6  [update, weve, secured, million, doses, astraz...  \n",
       "7  [eng, translationtw, racisma, german, radio, h...  \n",
       "8  [german, radio, presenter, equating, south, ko...  \n",
       "9                   [cute, little, covid, hat, mask]  "
      ]
     },
     "execution_count": 7,
     "metadata": {},
     "output_type": "execute_result"
    }
   ],
   "source": [
    "tweet.head(10)"
   ]
  },
  {
   "cell_type": "markdown",
   "id": "interior-fisher",
   "metadata": {},
   "source": [
    "### Step 1: EDA"
   ]
  },
  {
   "cell_type": "code",
   "execution_count": 8,
   "id": "analyzed-martial",
   "metadata": {},
   "outputs": [],
   "source": [
    "# Create a function to get the polarity (how positive and negative the tweet is)\n",
    "\n",
    "def getPolarity(text):\n",
    "    return TextBlob(text).sentiment.polarity"
   ]
  },
  {
   "cell_type": "code",
   "execution_count": 9,
   "id": "determined-description",
   "metadata": {},
   "outputs": [],
   "source": [
    "tweet['Polarity'] = tweet['Cleaned_Tweets'].apply(getPolarity)"
   ]
  },
  {
   "cell_type": "code",
   "execution_count": 10,
   "id": "cardiovascular-intelligence",
   "metadata": {},
   "outputs": [
    {
     "data": {
      "text/html": [
       "<div>\n",
       "<style scoped>\n",
       "    .dataframe tbody tr th:only-of-type {\n",
       "        vertical-align: middle;\n",
       "    }\n",
       "\n",
       "    .dataframe tbody tr th {\n",
       "        vertical-align: top;\n",
       "    }\n",
       "\n",
       "    .dataframe thead th {\n",
       "        text-align: right;\n",
       "    }\n",
       "</style>\n",
       "<table border=\"1\" class=\"dataframe\">\n",
       "  <thead>\n",
       "    <tr style=\"text-align: right;\">\n",
       "      <th></th>\n",
       "      <th>Tweets</th>\n",
       "      <th>Cleaned_Tweets</th>\n",
       "      <th>Cleaned_Tokens</th>\n",
       "      <th>Polarity</th>\n",
       "    </tr>\n",
       "  </thead>\n",
       "  <tbody>\n",
       "    <tr>\n",
       "      <th>0</th>\n",
       "      <td>: The number of people in Virginia who have be...</td>\n",
       "      <td>number people virginia fully vaccinated surpas...</td>\n",
       "      <td>[number, people, virginia, fully, vaccinated, ...</td>\n",
       "      <td>0.000000</td>\n",
       "    </tr>\n",
       "    <tr>\n",
       "      <th>1</th>\n",
       "      <td>WE DO NOT HAVE TO LIVE WITH COVID-19All of the...</td>\n",
       "      <td>live covid19all deaths next months preventable...</td>\n",
       "      <td>[live, covid19all, deaths, next, months, preve...</td>\n",
       "      <td>0.068182</td>\n",
       "    </tr>\n",
       "    <tr>\n",
       "      <th>2</th>\n",
       "      <td>The point is that more than % of this bill sho...</td>\n",
       "      <td>point bill go covid going noncovid garbage rep...</td>\n",
       "      <td>[point, bill, go, covid, going, noncovid, garb...</td>\n",
       "      <td>0.000000</td>\n",
       "    </tr>\n",
       "    <tr>\n",
       "      <th>3</th>\n",
       "      <td>: You just stepped all over your entire show o...</td>\n",
       "      <td>stepped entire show way door vaccine far scari...</td>\n",
       "      <td>[stepped, entire, show, way, door, vaccine, fa...</td>\n",
       "      <td>0.050000</td>\n",
       "    </tr>\n",
       "    <tr>\n",
       "      <th>4</th>\n",
       "      <td>: People who work full time should be able to ...</td>\n",
       "      <td>people work full time able make living wage do...</td>\n",
       "      <td>[people, work, full, time, able, make, living,...</td>\n",
       "      <td>0.118750</td>\n",
       "    </tr>\n",
       "    <tr>\n",
       "      <th>5</th>\n",
       "      <td>: RT if you agree Democrats should immediately...</td>\n",
       "      <td>rt agree democrats immediately remove everythi...</td>\n",
       "      <td>[rt, agree, democrats, immediately, remove, ev...</td>\n",
       "      <td>0.000000</td>\n",
       "    </tr>\n",
       "    <tr>\n",
       "      <th>6</th>\n",
       "      <td>: Update: Weve secured million doses of AstraZ...</td>\n",
       "      <td>update weve secured million doses astrazenecas...</td>\n",
       "      <td>[update, weve, secured, million, doses, astraz...</td>\n",
       "      <td>0.500000</td>\n",
       "    </tr>\n",
       "    <tr>\n",
       "      <th>7</th>\n",
       "      <td>: [ENG TRANSLATION]tw // racisma german radio ...</td>\n",
       "      <td>eng translationtw racisma german radio host ta...</td>\n",
       "      <td>[eng, translationtw, racisma, german, radio, h...</td>\n",
       "      <td>-0.350000</td>\n",
       "    </tr>\n",
       "    <tr>\n",
       "      <th>8</th>\n",
       "      <td>: A German radio presenter equating the South ...</td>\n",
       "      <td>german radio presenter equating south korean b...</td>\n",
       "      <td>[german, radio, presenter, equating, south, ko...</td>\n",
       "      <td>-0.100000</td>\n",
       "    </tr>\n",
       "    <tr>\n",
       "      <th>9</th>\n",
       "      <td>He should have a cute little COVID hat and mask.</td>\n",
       "      <td>cute little covid hat mask</td>\n",
       "      <td>[cute, little, covid, hat, mask]</td>\n",
       "      <td>0.156250</td>\n",
       "    </tr>\n",
       "  </tbody>\n",
       "</table>\n",
       "</div>"
      ],
      "text/plain": [
       "                                              Tweets  \\\n",
       "0  : The number of people in Virginia who have be...   \n",
       "1  WE DO NOT HAVE TO LIVE WITH COVID-19All of the...   \n",
       "2  The point is that more than % of this bill sho...   \n",
       "3  : You just stepped all over your entire show o...   \n",
       "4  : People who work full time should be able to ...   \n",
       "5  : RT if you agree Democrats should immediately...   \n",
       "6  : Update: Weve secured million doses of AstraZ...   \n",
       "7  : [ENG TRANSLATION]tw // racisma german radio ...   \n",
       "8  : A German radio presenter equating the South ...   \n",
       "9   He should have a cute little COVID hat and mask.   \n",
       "\n",
       "                                      Cleaned_Tweets  \\\n",
       "0  number people virginia fully vaccinated surpas...   \n",
       "1  live covid19all deaths next months preventable...   \n",
       "2  point bill go covid going noncovid garbage rep...   \n",
       "3  stepped entire show way door vaccine far scari...   \n",
       "4  people work full time able make living wage do...   \n",
       "5  rt agree democrats immediately remove everythi...   \n",
       "6  update weve secured million doses astrazenecas...   \n",
       "7  eng translationtw racisma german radio host ta...   \n",
       "8  german radio presenter equating south korean b...   \n",
       "9                         cute little covid hat mask   \n",
       "\n",
       "                                      Cleaned_Tokens  Polarity  \n",
       "0  [number, people, virginia, fully, vaccinated, ...  0.000000  \n",
       "1  [live, covid19all, deaths, next, months, preve...  0.068182  \n",
       "2  [point, bill, go, covid, going, noncovid, garb...  0.000000  \n",
       "3  [stepped, entire, show, way, door, vaccine, fa...  0.050000  \n",
       "4  [people, work, full, time, able, make, living,...  0.118750  \n",
       "5  [rt, agree, democrats, immediately, remove, ev...  0.000000  \n",
       "6  [update, weve, secured, million, doses, astraz...  0.500000  \n",
       "7  [eng, translationtw, racisma, german, radio, h... -0.350000  \n",
       "8  [german, radio, presenter, equating, south, ko... -0.100000  \n",
       "9                   [cute, little, covid, hat, mask]  0.156250  "
      ]
     },
     "execution_count": 10,
     "metadata": {},
     "output_type": "execute_result"
    }
   ],
   "source": [
    "tweet.head(10)"
   ]
  },
  {
   "cell_type": "code",
   "execution_count": 11,
   "id": "identified-prevention",
   "metadata": {},
   "outputs": [
    {
     "data": {
      "text/html": [
       "<div>\n",
       "<style scoped>\n",
       "    .dataframe tbody tr th:only-of-type {\n",
       "        vertical-align: middle;\n",
       "    }\n",
       "\n",
       "    .dataframe tbody tr th {\n",
       "        vertical-align: top;\n",
       "    }\n",
       "\n",
       "    .dataframe thead th {\n",
       "        text-align: right;\n",
       "    }\n",
       "</style>\n",
       "<table border=\"1\" class=\"dataframe\">\n",
       "  <thead>\n",
       "    <tr style=\"text-align: right;\">\n",
       "      <th></th>\n",
       "      <th>Tweets</th>\n",
       "      <th>Cleaned_Tweets</th>\n",
       "      <th>Cleaned_Tokens</th>\n",
       "      <th>Polarity</th>\n",
       "    </tr>\n",
       "  </thead>\n",
       "  <tbody>\n",
       "    <tr>\n",
       "      <th>0</th>\n",
       "      <td>: The number of people in Virginia who have be...</td>\n",
       "      <td>number people virginia fully vaccinated surpas...</td>\n",
       "      <td>[number, people, virginia, fully, vaccinated, ...</td>\n",
       "      <td>0.0</td>\n",
       "    </tr>\n",
       "    <tr>\n",
       "      <th>2</th>\n",
       "      <td>The point is that more than % of this bill sho...</td>\n",
       "      <td>point bill go covid going noncovid garbage rep...</td>\n",
       "      <td>[point, bill, go, covid, going, noncovid, garb...</td>\n",
       "      <td>0.0</td>\n",
       "    </tr>\n",
       "    <tr>\n",
       "      <th>5</th>\n",
       "      <td>: RT if you agree Democrats should immediately...</td>\n",
       "      <td>rt agree democrats immediately remove everythi...</td>\n",
       "      <td>[rt, agree, democrats, immediately, remove, ev...</td>\n",
       "      <td>0.0</td>\n",
       "    </tr>\n",
       "    <tr>\n",
       "      <th>10</th>\n",
       "      <td>: Ivory Coast has become the second country in...</td>\n",
       "      <td>ivory coast become second country world receiv...</td>\n",
       "      <td>[ivory, coast, become, second, country, world,...</td>\n",
       "      <td>0.0</td>\n",
       "    </tr>\n",
       "    <tr>\n",
       "      <th>16</th>\n",
       "      <td>: In order to preserve the , must keep $15 min...</td>\n",
       "      <td>order preserve must keep 15 min wage covid rel...</td>\n",
       "      <td>[order, preserve, must, keep, 15, min, wage, c...</td>\n",
       "      <td>0.0</td>\n",
       "    </tr>\n",
       "    <tr>\n",
       "      <th>...</th>\n",
       "      <td>...</td>\n",
       "      <td>...</td>\n",
       "      <td>...</td>\n",
       "      <td>...</td>\n",
       "    </tr>\n",
       "    <tr>\n",
       "      <th>11986</th>\n",
       "      <td>: The Final Push to End the Coronavirus Pandem...</td>\n",
       "      <td>final push end coronavirus pandemic us</td>\n",
       "      <td>[final, push, end, coronavirus, pandemic, us]</td>\n",
       "      <td>0.0</td>\n",
       "    </tr>\n",
       "    <tr>\n",
       "      <th>11987</th>\n",
       "      <td>: Jeremy Lin: Being a -year NBA veteran doesnt...</td>\n",
       "      <td>jeremy lin year nba veteran doesnt protect cal...</td>\n",
       "      <td>[jeremy, lin, year, nba, veteran, doesnt, prot...</td>\n",
       "      <td>0.0</td>\n",
       "    </tr>\n",
       "    <tr>\n",
       "      <th>11990</th>\n",
       "      <td>: The behavioural scientists are worried they'...</td>\n",
       "      <td>behavioural scientists worried theyre losing r...</td>\n",
       "      <td>[behavioural, scientists, worried, theyre, los...</td>\n",
       "      <td>0.0</td>\n",
       "    </tr>\n",
       "    <tr>\n",
       "      <th>11992</th>\n",
       "      <td>The Final Push to End the Coronavirus Pandemic...</td>\n",
       "      <td>final push end coronavirus pandemic us</td>\n",
       "      <td>[final, push, end, coronavirus, pandemic, us]</td>\n",
       "      <td>0.0</td>\n",
       "    </tr>\n",
       "    <tr>\n",
       "      <th>11998</th>\n",
       "      <td>: Coronavirus cases are falling globally, but ...</td>\n",
       "      <td>coronavirus cases falling globally big question</td>\n",
       "      <td>[coronavirus, cases, falling, globally, big, q...</td>\n",
       "      <td>0.0</td>\n",
       "    </tr>\n",
       "  </tbody>\n",
       "</table>\n",
       "<p>5529 rows × 4 columns</p>\n",
       "</div>"
      ],
      "text/plain": [
       "                                                  Tweets  \\\n",
       "0      : The number of people in Virginia who have be...   \n",
       "2      The point is that more than % of this bill sho...   \n",
       "5      : RT if you agree Democrats should immediately...   \n",
       "10     : Ivory Coast has become the second country in...   \n",
       "16     : In order to preserve the , must keep $15 min...   \n",
       "...                                                  ...   \n",
       "11986  : The Final Push to End the Coronavirus Pandem...   \n",
       "11987  : Jeremy Lin: Being a -year NBA veteran doesnt...   \n",
       "11990  : The behavioural scientists are worried they'...   \n",
       "11992  The Final Push to End the Coronavirus Pandemic...   \n",
       "11998  : Coronavirus cases are falling globally, but ...   \n",
       "\n",
       "                                          Cleaned_Tweets  \\\n",
       "0      number people virginia fully vaccinated surpas...   \n",
       "2      point bill go covid going noncovid garbage rep...   \n",
       "5      rt agree democrats immediately remove everythi...   \n",
       "10     ivory coast become second country world receiv...   \n",
       "16     order preserve must keep 15 min wage covid rel...   \n",
       "...                                                  ...   \n",
       "11986             final push end coronavirus pandemic us   \n",
       "11987  jeremy lin year nba veteran doesnt protect cal...   \n",
       "11990  behavioural scientists worried theyre losing r...   \n",
       "11992             final push end coronavirus pandemic us   \n",
       "11998    coronavirus cases falling globally big question   \n",
       "\n",
       "                                          Cleaned_Tokens  Polarity  \n",
       "0      [number, people, virginia, fully, vaccinated, ...       0.0  \n",
       "2      [point, bill, go, covid, going, noncovid, garb...       0.0  \n",
       "5      [rt, agree, democrats, immediately, remove, ev...       0.0  \n",
       "10     [ivory, coast, become, second, country, world,...       0.0  \n",
       "16     [order, preserve, must, keep, 15, min, wage, c...       0.0  \n",
       "...                                                  ...       ...  \n",
       "11986      [final, push, end, coronavirus, pandemic, us]       0.0  \n",
       "11987  [jeremy, lin, year, nba, veteran, doesnt, prot...       0.0  \n",
       "11990  [behavioural, scientists, worried, theyre, los...       0.0  \n",
       "11992      [final, push, end, coronavirus, pandemic, us]       0.0  \n",
       "11998  [coronavirus, cases, falling, globally, big, q...       0.0  \n",
       "\n",
       "[5529 rows x 4 columns]"
      ]
     },
     "execution_count": 11,
     "metadata": {},
     "output_type": "execute_result"
    }
   ],
   "source": [
    "tweet[tweet.Polarity==0]"
   ]
  },
  {
   "cell_type": "code",
   "execution_count": 12,
   "id": "educational-internship",
   "metadata": {},
   "outputs": [],
   "source": [
    "tweet.loc[tweet['Polarity']>0,'Sentiment'] = 'Positive'\n",
    "tweet.loc[tweet['Polarity']==0,'Sentiment'] = 'Neutral'\n",
    "tweet.loc[tweet['Polarity']<0,'Sentiment'] = 'Negative'"
   ]
  },
  {
   "cell_type": "code",
   "execution_count": 13,
   "id": "electric-paste",
   "metadata": {},
   "outputs": [
    {
     "data": {
      "text/html": [
       "<div>\n",
       "<style scoped>\n",
       "    .dataframe tbody tr th:only-of-type {\n",
       "        vertical-align: middle;\n",
       "    }\n",
       "\n",
       "    .dataframe tbody tr th {\n",
       "        vertical-align: top;\n",
       "    }\n",
       "\n",
       "    .dataframe thead th {\n",
       "        text-align: right;\n",
       "    }\n",
       "</style>\n",
       "<table border=\"1\" class=\"dataframe\">\n",
       "  <thead>\n",
       "    <tr style=\"text-align: right;\">\n",
       "      <th></th>\n",
       "      <th>Tweets</th>\n",
       "      <th>Cleaned_Tweets</th>\n",
       "      <th>Cleaned_Tokens</th>\n",
       "      <th>Polarity</th>\n",
       "      <th>Sentiment</th>\n",
       "    </tr>\n",
       "  </thead>\n",
       "  <tbody>\n",
       "    <tr>\n",
       "      <th>0</th>\n",
       "      <td>: The number of people in Virginia who have be...</td>\n",
       "      <td>number people virginia fully vaccinated surpas...</td>\n",
       "      <td>[number, people, virginia, fully, vaccinated, ...</td>\n",
       "      <td>0.000000</td>\n",
       "      <td>Neutral</td>\n",
       "    </tr>\n",
       "    <tr>\n",
       "      <th>1</th>\n",
       "      <td>WE DO NOT HAVE TO LIVE WITH COVID-19All of the...</td>\n",
       "      <td>live covid19all deaths next months preventable...</td>\n",
       "      <td>[live, covid19all, deaths, next, months, preve...</td>\n",
       "      <td>0.068182</td>\n",
       "      <td>Positive</td>\n",
       "    </tr>\n",
       "    <tr>\n",
       "      <th>2</th>\n",
       "      <td>The point is that more than % of this bill sho...</td>\n",
       "      <td>point bill go covid going noncovid garbage rep...</td>\n",
       "      <td>[point, bill, go, covid, going, noncovid, garb...</td>\n",
       "      <td>0.000000</td>\n",
       "      <td>Neutral</td>\n",
       "    </tr>\n",
       "    <tr>\n",
       "      <th>3</th>\n",
       "      <td>: You just stepped all over your entire show o...</td>\n",
       "      <td>stepped entire show way door vaccine far scari...</td>\n",
       "      <td>[stepped, entire, show, way, door, vaccine, fa...</td>\n",
       "      <td>0.050000</td>\n",
       "      <td>Positive</td>\n",
       "    </tr>\n",
       "    <tr>\n",
       "      <th>4</th>\n",
       "      <td>: People who work full time should be able to ...</td>\n",
       "      <td>people work full time able make living wage do...</td>\n",
       "      <td>[people, work, full, time, able, make, living,...</td>\n",
       "      <td>0.118750</td>\n",
       "      <td>Positive</td>\n",
       "    </tr>\n",
       "    <tr>\n",
       "      <th>5</th>\n",
       "      <td>: RT if you agree Democrats should immediately...</td>\n",
       "      <td>rt agree democrats immediately remove everythi...</td>\n",
       "      <td>[rt, agree, democrats, immediately, remove, ev...</td>\n",
       "      <td>0.000000</td>\n",
       "      <td>Neutral</td>\n",
       "    </tr>\n",
       "    <tr>\n",
       "      <th>6</th>\n",
       "      <td>: Update: Weve secured million doses of AstraZ...</td>\n",
       "      <td>update weve secured million doses astrazenecas...</td>\n",
       "      <td>[update, weve, secured, million, doses, astraz...</td>\n",
       "      <td>0.500000</td>\n",
       "      <td>Positive</td>\n",
       "    </tr>\n",
       "    <tr>\n",
       "      <th>7</th>\n",
       "      <td>: [ENG TRANSLATION]tw // racisma german radio ...</td>\n",
       "      <td>eng translationtw racisma german radio host ta...</td>\n",
       "      <td>[eng, translationtw, racisma, german, radio, h...</td>\n",
       "      <td>-0.350000</td>\n",
       "      <td>Negative</td>\n",
       "    </tr>\n",
       "    <tr>\n",
       "      <th>8</th>\n",
       "      <td>: A German radio presenter equating the South ...</td>\n",
       "      <td>german radio presenter equating south korean b...</td>\n",
       "      <td>[german, radio, presenter, equating, south, ko...</td>\n",
       "      <td>-0.100000</td>\n",
       "      <td>Negative</td>\n",
       "    </tr>\n",
       "    <tr>\n",
       "      <th>9</th>\n",
       "      <td>He should have a cute little COVID hat and mask.</td>\n",
       "      <td>cute little covid hat mask</td>\n",
       "      <td>[cute, little, covid, hat, mask]</td>\n",
       "      <td>0.156250</td>\n",
       "      <td>Positive</td>\n",
       "    </tr>\n",
       "  </tbody>\n",
       "</table>\n",
       "</div>"
      ],
      "text/plain": [
       "                                              Tweets  \\\n",
       "0  : The number of people in Virginia who have be...   \n",
       "1  WE DO NOT HAVE TO LIVE WITH COVID-19All of the...   \n",
       "2  The point is that more than % of this bill sho...   \n",
       "3  : You just stepped all over your entire show o...   \n",
       "4  : People who work full time should be able to ...   \n",
       "5  : RT if you agree Democrats should immediately...   \n",
       "6  : Update: Weve secured million doses of AstraZ...   \n",
       "7  : [ENG TRANSLATION]tw // racisma german radio ...   \n",
       "8  : A German radio presenter equating the South ...   \n",
       "9   He should have a cute little COVID hat and mask.   \n",
       "\n",
       "                                      Cleaned_Tweets  \\\n",
       "0  number people virginia fully vaccinated surpas...   \n",
       "1  live covid19all deaths next months preventable...   \n",
       "2  point bill go covid going noncovid garbage rep...   \n",
       "3  stepped entire show way door vaccine far scari...   \n",
       "4  people work full time able make living wage do...   \n",
       "5  rt agree democrats immediately remove everythi...   \n",
       "6  update weve secured million doses astrazenecas...   \n",
       "7  eng translationtw racisma german radio host ta...   \n",
       "8  german radio presenter equating south korean b...   \n",
       "9                         cute little covid hat mask   \n",
       "\n",
       "                                      Cleaned_Tokens  Polarity Sentiment  \n",
       "0  [number, people, virginia, fully, vaccinated, ...  0.000000   Neutral  \n",
       "1  [live, covid19all, deaths, next, months, preve...  0.068182  Positive  \n",
       "2  [point, bill, go, covid, going, noncovid, garb...  0.000000   Neutral  \n",
       "3  [stepped, entire, show, way, door, vaccine, fa...  0.050000  Positive  \n",
       "4  [people, work, full, time, able, make, living,...  0.118750  Positive  \n",
       "5  [rt, agree, democrats, immediately, remove, ev...  0.000000   Neutral  \n",
       "6  [update, weve, secured, million, doses, astraz...  0.500000  Positive  \n",
       "7  [eng, translationtw, racisma, german, radio, h... -0.350000  Negative  \n",
       "8  [german, radio, presenter, equating, south, ko... -0.100000  Negative  \n",
       "9                   [cute, little, covid, hat, mask]  0.156250  Positive  "
      ]
     },
     "execution_count": 13,
     "metadata": {},
     "output_type": "execute_result"
    }
   ],
   "source": [
    "tweet.head(10)"
   ]
  },
  {
   "cell_type": "code",
   "execution_count": 14,
   "id": "rising-aerospace",
   "metadata": {
    "scrolled": true
   },
   "outputs": [
    {
     "data": {
      "text/plain": [
       "<matplotlib.axes._subplots.AxesSubplot at 0x7fe3e08e9400>"
      ]
     },
     "execution_count": 14,
     "metadata": {},
     "output_type": "execute_result"
    },
    {
     "data": {
      "image/png": "[encoded data removed]",
      "text/plain": [
       "<Figure size 864x432 with 1 Axes>"
      ]
     },
     "metadata": {
      "needs_background": "light"
     },
     "output_type": "display_data"
    }
   ],
   "source": [
    "plt.figure(figsize=(12,6))\n",
    "sns.set_theme(style=\"darkgrid\")\n",
    "sns.countplot(x='Sentiment',data=tweet)"
   ]
  },
  {
   "cell_type": "markdown",
   "id": "partial-sponsorship",
   "metadata": {},
   "source": [
    "#### Method 1: Use TF-IDF, TruncatedSVD, and KMeans Clustering"
   ]
  },
  {
   "cell_type": "code",
   "execution_count": 21,
   "id": "critical-transformation",
   "metadata": {},
   "outputs": [],
   "source": [
    "from sklearn.decomposition import TruncatedSVD\n",
    "from sklearn.cluster import KMeans\n",
    "from sklearn.pipeline import make_pipeline"
   ]
  },
  {
   "cell_type": "code",
   "execution_count": 15,
   "id": "amino-replication",
   "metadata": {},
   "outputs": [],
   "source": [
    "from sklearn.feature_extraction.text import TfidfVectorizer\n",
    "\n",
    "#Feature Transformation\n",
    "\n",
    "tfidf_vectorizer = TfidfVectorizer(max_features= 1000000,stop_words='english')\n",
    "tfidf = tfidf_vectorizer.fit_transform(tweet.Tweets)"
   ]
  },
  {
   "cell_type": "code",
   "execution_count": 17,
   "id": "medium-vancouver",
   "metadata": {},
   "outputs": [],
   "source": [
    "# Create a TruncatedSVD instance: svd\n",
    "svd = TruncatedSVD(n_components=50)"
   ]
  },
  {
   "cell_type": "code",
   "execution_count": 18,
   "id": "finite-caution",
   "metadata": {},
   "outputs": [],
   "source": [
    "train = svd.fit_transform(tfidf)"
   ]
  },
  {
   "cell_type": "code",
   "execution_count": 55,
   "id": "amino-bridge",
   "metadata": {},
   "outputs": [
    {
     "name": "stderr",
     "output_type": "stream",
     "text": [
      "/Users/Xingkang/opt/anaconda3/lib/python3.7/site-packages/ipykernel/ipkernel.py:287: DeprecationWarning: `should_run_async` will not call `transform_cell` automatically in the future. Please pass the result to `transformed_cell` argument and any exception that happen during thetransform in `preprocessing_exc_tuple` in IPython 7.17 and above.\n",
      "  and should_run_async(code)\n"
     ]
    },
    {
     "data": {
      "image/png": "[encoded data removed]",
      "text/plain": [
       "<Figure size 432x288 with 1 Axes>"
      ]
     },
     "metadata": {
      "needs_background": "light"
     },
     "output_type": "display_data"
    }
   ],
   "source": [
    "wcss = []\n",
    "\n",
    "for i in range(1, 11):\n",
    "    kmeans = KMeans(n_clusters = i, init = 'k-means++',\n",
    "                    max_iter = 400, n_init = 10, random_state = 0)\n",
    "    kmeans.fit(train)\n",
    "    wcss.append(kmeans.inertia_)\n",
    "    \n",
    "#Plotting the results onto a line graph to observe 'The elbow'\n",
    "plt.plot(range(1, 11), wcss)\n",
    "plt.title('Elbow Method')\n",
    "plt.xlabel('Number of Topics')\n",
    "plt.ylabel('WCSS') #within cluster sum of squares\n",
    "plt.show()"
   ]
  },
  {
   "cell_type": "code",
   "execution_count": 60,
   "id": "tight-auditor",
   "metadata": {},
   "outputs": [
    {
     "name": "stderr",
     "output_type": "stream",
     "text": [
      "/Users/Xingkang/opt/anaconda3/lib/python3.7/site-packages/ipykernel/ipkernel.py:287: DeprecationWarning: `should_run_async` will not call `transform_cell` automatically in the future. Please pass the result to `transformed_cell` argument and any exception that happen during thetransform in `preprocessing_exc_tuple` in IPython 7.17 and above.\n",
      "  and should_run_async(code)\n"
     ]
    },
    {
     "name": "stdout",
     "output_type": "stream",
     "text": [
      "12000\n",
      "      Group                                               Text\n",
      "8999      0  : \"Being a year NBA veteran doesn't protect me...\n",
      "9527      0  : Jeremy Lin: Being a -year NBA veteran doesnt...\n",
      "9530      0  : \"Being a year NBA veteran doesn't protect me...\n",
      "9540      0  : Jeremy Lin: Being a -year NBA veteran doesnt...\n",
      "9545      0  : \"Being a year NBA veteran doesn't protect me...\n",
      "...     ...                                                ...\n",
      "2374      2  : RT if you agree Democrats should immediately...\n",
      "2347      2  : RT if you agree Democrats should immediately...\n",
      "2341      2  : RT if you agree Democrats should immediately...\n",
      "2722      2  : RT if you agree Democrats should immediately...\n",
      "2999      2  : RT if you agree Democrats should immediately...\n",
      "\n",
      "[12000 rows x 2 columns]\n"
     ]
    }
   ],
   "source": [
    "# Create a TruncatedSVD instance: svd\n",
    "svd = TruncatedSVD(n_components=50)\n",
    "\n",
    "# Create a KMeans instance: kmeans\n",
    "kmeans = KMeans(n_clusters=3)\n",
    "\n",
    "# Create a pipeline: pipeline\n",
    "pipeline = make_pipeline(svd, kmeans)\n",
    " \n",
    "# Import pandas\n",
    "import pandas as pd\n",
    "\n",
    "# Fit the pipeline to articles\n",
    "pipeline.fit(tfidf)\n",
    "\n",
    "# Calculate the cluster labels: labels\n",
    "labels = pipeline.predict(tfidf)\n",
    "print(len(labels))\n",
    "\n",
    "# Create a DataFrame aligning labels and titles: df\n",
    "df = pd.DataFrame({'Group': labels,'Text':tweet.Tweets})\n",
    "\n",
    "# Display df sorted by cluster label\n",
    "print(df.sort_values('Group'))"
   ]
  },
  {
   "cell_type": "code",
   "execution_count": 61,
   "id": "known-thesis",
   "metadata": {},
   "outputs": [
    {
     "name": "stderr",
     "output_type": "stream",
     "text": [
      "/Users/Xingkang/opt/anaconda3/lib/python3.7/site-packages/ipykernel/ipkernel.py:287: DeprecationWarning: `should_run_async` will not call `transform_cell` automatically in the future. Please pass the result to `transformed_cell` argument and any exception that happen during thetransform in `preprocessing_exc_tuple` in IPython 7.17 and above.\n",
      "  and should_run_async(code)\n"
     ]
    },
    {
     "data": {
      "text/plain": [
       "1    10540\n",
       "0     1041\n",
       "2      419\n",
       "Name: Group, dtype: int64"
      ]
     },
     "execution_count": 61,
     "metadata": {},
     "output_type": "execute_result"
    }
   ],
   "source": [
    "df['Group'].value_counts()"
   ]
  },
  {
   "cell_type": "code",
   "execution_count": 62,
   "id": "applicable-cause",
   "metadata": {},
   "outputs": [
    {
     "name": "stderr",
     "output_type": "stream",
     "text": [
      "/Users/Xingkang/opt/anaconda3/lib/python3.7/site-packages/ipykernel/ipkernel.py:287: DeprecationWarning: `should_run_async` will not call `transform_cell` automatically in the future. Please pass the result to `transformed_cell` argument and any exception that happen during thetransform in `preprocessing_exc_tuple` in IPython 7.17 and above.\n",
      "  and should_run_async(code)\n"
     ]
    }
   ],
   "source": [
    "from wordcloud import WordCloud"
   ]
  },
  {
   "cell_type": "code",
   "execution_count": 63,
   "id": "upset-salmon",
   "metadata": {},
   "outputs": [
    {
     "name": "stderr",
     "output_type": "stream",
     "text": [
      "/Users/Xingkang/opt/anaconda3/lib/python3.7/site-packages/ipykernel/ipkernel.py:287: DeprecationWarning: `should_run_async` will not call `transform_cell` automatically in the future. Please pass the result to `transformed_cell` argument and any exception that happen during thetransform in `preprocessing_exc_tuple` in IPython 7.17 and above.\n",
      "  and should_run_async(code)\n"
     ]
    },
    {
     "data": {
      "image/png": "[encoded data removed]",
      "text/plain": [
       "<Figure size 432x288 with 1 Axes>"
      ]
     },
     "metadata": {
      "needs_background": "light"
     },
     "output_type": "display_data"
    },
    {
     "name": "stdout",
     "output_type": "stream",
     "text": [
      "1041\n"
     ]
    },
    {
     "data": {
      "image/png": "[encoded data removed]",
      "text/plain": [
       "<Figure size 432x288 with 1 Axes>"
      ]
     },
     "metadata": {
      "needs_background": "light"
     },
     "output_type": "display_data"
    },
    {
     "name": "stdout",
     "output_type": "stream",
     "text": [
      "10540\n"
     ]
    },
    {
     "data": {
      "image/png": "[encoded data removed]",
      "text/plain": [
       "<Figure size 432x288 with 1 Axes>"
      ]
     },
     "metadata": {
      "needs_background": "light"
     },
     "output_type": "display_data"
    },
    {
     "name": "stdout",
     "output_type": "stream",
     "text": [
      "419\n"
     ]
    }
   ],
   "source": [
    "for group in range(0,df['Group'].nunique()):\n",
    "    allwords = ' '.join([text for text in df[df['Group']==group]['Text']])\n",
    "    wordCloud = WordCloud(width=500, height=300,random_state=22,max_font_size=120).generate(allwords)\n",
    "    \n",
    "    plt.imshow(wordCloud,interpolation='bilinear')\n",
    "    plt.axis('off')\n",
    "    #plt.savefig('Group {} Word Cloud.png'.format(group))\n",
    "    plt.show()\n",
    "    print(len(df[df['Group']==group]))"
   ]
  },
  {
   "cell_type": "markdown",
   "id": "moderate-investigation",
   "metadata": {},
   "source": [
    "#### Method 2: Use LDA (Latent Dirichlet Allocation)"
   ]
  },
  {
   "cell_type": "code",
   "execution_count": 26,
   "id": "concerned-equation",
   "metadata": {},
   "outputs": [
    {
     "data": {
      "text/plain": [
       "[['number',\n",
       "  'people',\n",
       "  'virginia',\n",
       "  'fully',\n",
       "  'vaccinated',\n",
       "  'surpassed',\n",
       "  'number',\n",
       "  'people',\n",
       "  'tested',\n",
       "  'pos'],\n",
       " ['live',\n",
       "  'covid19all',\n",
       "  'deaths',\n",
       "  'next',\n",
       "  'months',\n",
       "  'preventable',\n",
       "  'government',\n",
       "  'choose',\n",
       "  'act'],\n",
       " ['point',\n",
       "  'bill',\n",
       "  'go',\n",
       "  'covid',\n",
       "  'going',\n",
       "  'noncovid',\n",
       "  'garbage',\n",
       "  'republicans',\n",
       "  'pissed',\n",
       "  'well',\n",
       "  'wake']]"
      ]
     },
     "execution_count": 26,
     "metadata": {},
     "output_type": "execute_result"
    }
   ],
   "source": [
    "tweet['Cleaned_Tokens'].tolist()[:3]"
   ]
  },
  {
   "cell_type": "code",
   "execution_count": 27,
   "id": "collected-filter",
   "metadata": {},
   "outputs": [
    {
     "name": "stderr",
     "output_type": "stream",
     "text": [
      "[nltk_data] Downloading package averaged_perceptron_tagger to\n",
      "[nltk_data]     /Users/Xingkang/nltk_data...\n",
      "[nltk_data]   Package averaged_perceptron_tagger is already up-to-\n",
      "[nltk_data]       date!\n"
     ]
    }
   ],
   "source": [
    "nltk.download('averaged_perceptron_tagger')\n",
    "from nltk import pos_tag"
   ]
  },
  {
   "cell_type": "code",
   "execution_count": 28,
   "id": "precise-anxiety",
   "metadata": {},
   "outputs": [],
   "source": [
    "tweet['POS_Tokens'] = tweet['Cleaned_Tokens'].apply(lambda x: pos_tag(x))"
   ]
  },
  {
   "cell_type": "code",
   "execution_count": 29,
   "id": "becoming-morrison",
   "metadata": {
    "scrolled": true
   },
   "outputs": [
    {
     "data": {
      "text/plain": [
       "[('number', 'NN'),\n",
       " ('people', 'NNS'),\n",
       " ('virginia', 'VBP'),\n",
       " ('fully', 'RB'),\n",
       " ('vaccinated', 'VBN'),\n",
       " ('surpassed', 'JJ'),\n",
       " ('number', 'NN'),\n",
       " ('people', 'NNS'),\n",
       " ('tested', 'VBD'),\n",
       " ('pos', 'NN')]"
      ]
     },
     "execution_count": 29,
     "metadata": {},
     "output_type": "execute_result"
    }
   ],
   "source": [
    "tweet['POS_Tokens'][0]"
   ]
  },
  {
   "cell_type": "code",
   "execution_count": 30,
   "id": "desperate-eagle",
   "metadata": {},
   "outputs": [
    {
     "data": {
      "text/html": [
       "<div>\n",
       "<style scoped>\n",
       "    .dataframe tbody tr th:only-of-type {\n",
       "        vertical-align: middle;\n",
       "    }\n",
       "\n",
       "    .dataframe tbody tr th {\n",
       "        vertical-align: top;\n",
       "    }\n",
       "\n",
       "    .dataframe thead th {\n",
       "        text-align: right;\n",
       "    }\n",
       "</style>\n",
       "<table border=\"1\" class=\"dataframe\">\n",
       "  <thead>\n",
       "    <tr style=\"text-align: right;\">\n",
       "      <th></th>\n",
       "      <th>Tweets</th>\n",
       "      <th>Cleaned_Tweets</th>\n",
       "      <th>Cleaned_Tokens</th>\n",
       "      <th>Polarity</th>\n",
       "      <th>Sentiment</th>\n",
       "      <th>POS_Tokens</th>\n",
       "    </tr>\n",
       "  </thead>\n",
       "  <tbody>\n",
       "    <tr>\n",
       "      <th>0</th>\n",
       "      <td>: The number of people in Virginia who have be...</td>\n",
       "      <td>number people virginia fully vaccinated surpas...</td>\n",
       "      <td>[number, people, virginia, fully, vaccinated, ...</td>\n",
       "      <td>0.000000</td>\n",
       "      <td>Neutral</td>\n",
       "      <td>[(number, NN), (people, NNS), (virginia, VBP),...</td>\n",
       "    </tr>\n",
       "    <tr>\n",
       "      <th>1</th>\n",
       "      <td>WE DO NOT HAVE TO LIVE WITH COVID-19All of the...</td>\n",
       "      <td>live covid19all deaths next months preventable...</td>\n",
       "      <td>[live, covid19all, deaths, next, months, preve...</td>\n",
       "      <td>0.068182</td>\n",
       "      <td>Positive</td>\n",
       "      <td>[(live, JJ), (covid19all, NN), (deaths, NNS), ...</td>\n",
       "    </tr>\n",
       "    <tr>\n",
       "      <th>2</th>\n",
       "      <td>The point is that more than % of this bill sho...</td>\n",
       "      <td>point bill go covid going noncovid garbage rep...</td>\n",
       "      <td>[point, bill, go, covid, going, noncovid, garb...</td>\n",
       "      <td>0.000000</td>\n",
       "      <td>Neutral</td>\n",
       "      <td>[(point, NN), (bill, NN), (go, VB), (covid, JJ...</td>\n",
       "    </tr>\n",
       "    <tr>\n",
       "      <th>3</th>\n",
       "      <td>: You just stepped all over your entire show o...</td>\n",
       "      <td>stepped entire show way door vaccine far scari...</td>\n",
       "      <td>[stepped, entire, show, way, door, vaccine, fa...</td>\n",
       "      <td>0.050000</td>\n",
       "      <td>Positive</td>\n",
       "      <td>[(stepped, VBD), (entire, JJ), (show, NN), (wa...</td>\n",
       "    </tr>\n",
       "    <tr>\n",
       "      <th>4</th>\n",
       "      <td>: People who work full time should be able to ...</td>\n",
       "      <td>people work full time able make living wage do...</td>\n",
       "      <td>[people, work, full, time, able, make, living,...</td>\n",
       "      <td>0.118750</td>\n",
       "      <td>Positive</td>\n",
       "      <td>[(people, NNS), (work, VBP), (full, JJ), (time...</td>\n",
       "    </tr>\n",
       "  </tbody>\n",
       "</table>\n",
       "</div>"
      ],
      "text/plain": [
       "                                              Tweets  \\\n",
       "0  : The number of people in Virginia who have be...   \n",
       "1  WE DO NOT HAVE TO LIVE WITH COVID-19All of the...   \n",
       "2  The point is that more than % of this bill sho...   \n",
       "3  : You just stepped all over your entire show o...   \n",
       "4  : People who work full time should be able to ...   \n",
       "\n",
       "                                      Cleaned_Tweets  \\\n",
       "0  number people virginia fully vaccinated surpas...   \n",
       "1  live covid19all deaths next months preventable...   \n",
       "2  point bill go covid going noncovid garbage rep...   \n",
       "3  stepped entire show way door vaccine far scari...   \n",
       "4  people work full time able make living wage do...   \n",
       "\n",
       "                                      Cleaned_Tokens  Polarity Sentiment  \\\n",
       "0  [number, people, virginia, fully, vaccinated, ...  0.000000   Neutral   \n",
       "1  [live, covid19all, deaths, next, months, preve...  0.068182  Positive   \n",
       "2  [point, bill, go, covid, going, noncovid, garb...  0.000000   Neutral   \n",
       "3  [stepped, entire, show, way, door, vaccine, fa...  0.050000  Positive   \n",
       "4  [people, work, full, time, able, make, living,...  0.118750  Positive   \n",
       "\n",
       "                                          POS_Tokens  \n",
       "0  [(number, NN), (people, NNS), (virginia, VBP),...  \n",
       "1  [(live, JJ), (covid19all, NN), (deaths, NNS), ...  \n",
       "2  [(point, NN), (bill, NN), (go, VB), (covid, JJ...  \n",
       "3  [(stepped, VBD), (entire, JJ), (show, NN), (wa...  \n",
       "4  [(people, NNS), (work, VBP), (full, JJ), (time...  "
      ]
     },
     "execution_count": 30,
     "metadata": {},
     "output_type": "execute_result"
    }
   ],
   "source": [
    "tweet.head()"
   ]
  },
  {
   "cell_type": "code",
   "execution_count": 31,
   "id": "indie-retirement",
   "metadata": {},
   "outputs": [
    {
     "name": "stderr",
     "output_type": "stream",
     "text": [
      "[nltk_data] Downloading package wordnet to\n",
      "[nltk_data]     /Users/Xingkang/nltk_data...\n",
      "[nltk_data]   Package wordnet is already up-to-date!\n"
     ]
    }
   ],
   "source": [
    "nltk.download('wordnet')\n",
    "from nltk.corpus import wordnet"
   ]
  },
  {
   "cell_type": "code",
   "execution_count": 32,
   "id": "different-thinking",
   "metadata": {
    "code_folding": []
   },
   "outputs": [],
   "source": [
    "def get_wordnet_pos(treebank_tag):\n",
    "\n",
    "    if treebank_tag.startswith('J'):\n",
    "        return wordnet.ADJ\n",
    "    elif treebank_tag.startswith('V'):\n",
    "        return wordnet.VERB\n",
    "    elif treebank_tag.startswith('N'):\n",
    "        return wordnet.NOUN\n",
    "    elif treebank_tag.startswith('R'):\n",
    "        return wordnet.ADV\n",
    "    else:\n",
    "        return ''"
   ]
  },
  {
   "cell_type": "code",
   "execution_count": 33,
   "id": "secondary-assignment",
   "metadata": {},
   "outputs": [],
   "source": [
    "from nltk.stem.wordnet import WordNetLemmatizer\n",
    "lemmatizer = WordNetLemmatizer()"
   ]
  },
  {
   "cell_type": "code",
   "execution_count": 34,
   "id": "entitled-cargo",
   "metadata": {},
   "outputs": [
    {
     "data": {
      "text/plain": [
       "12000"
      ]
     },
     "execution_count": 34,
     "metadata": {},
     "output_type": "execute_result"
    }
   ],
   "source": [
    "len(tweet['POS_Tokens'])"
   ]
  },
  {
   "cell_type": "code",
   "execution_count": 35,
   "id": "frank-shareware",
   "metadata": {},
   "outputs": [
    {
     "name": "stderr",
     "output_type": "stream",
     "text": [
      "/Users/Xingkang/opt/anaconda3/lib/python3.7/site-packages/ipykernel_launcher.py:5: SettingWithCopyWarning: \n",
      "A value is trying to be set on a copy of a slice from a DataFrame\n",
      "\n",
      "See the caveats in the documentation: https://pandas.pydata.org/pandas-docs/stable/user_guide/indexing.html#returning-a-view-versus-a-copy\n",
      "  \"\"\"\n",
      "/Users/Xingkang/opt/anaconda3/lib/python3.7/site-packages/pandas/core/indexing.py:1637: SettingWithCopyWarning: \n",
      "A value is trying to be set on a copy of a slice from a DataFrame\n",
      "\n",
      "See the caveats in the documentation: https://pandas.pydata.org/pandas-docs/stable/user_guide/indexing.html#returning-a-view-versus-a-copy\n",
      "  self._setitem_single_block(indexer, value, name)\n"
     ]
    }
   ],
   "source": [
    "tweet['Lemmatized_Tokens'] = 0\n",
    "\n",
    "\n",
    "for i in range(0,len(tweet['POS_Tokens'])):\n",
    "    tweet['Lemmatized_Tokens'][i] = [lemmatizer.lemmatize(x[0],get_wordnet_pos(x[1])) if get_wordnet_pos(x[1])!='' else x[0] for x in tweet['POS_Tokens'][i]]"
   ]
  },
  {
   "cell_type": "code",
   "execution_count": 36,
   "id": "descending-insulation",
   "metadata": {
    "scrolled": true
   },
   "outputs": [
    {
     "data": {
      "text/plain": [
       "Index(['Tweets', 'Cleaned_Tweets', 'Cleaned_Tokens', 'Polarity', 'Sentiment',\n",
       "       'POS_Tokens', 'Lemmatized_Tokens'],\n",
       "      dtype='object')"
      ]
     },
     "execution_count": 36,
     "metadata": {},
     "output_type": "execute_result"
    }
   ],
   "source": [
    "tweet.columns"
   ]
  },
  {
   "cell_type": "code",
   "execution_count": 37,
   "id": "suspected-blake",
   "metadata": {},
   "outputs": [],
   "source": [
    "#!pip install gensim"
   ]
  },
  {
   "cell_type": "code",
   "execution_count": 38,
   "id": "religious-atlantic",
   "metadata": {},
   "outputs": [],
   "source": [
    "import gensim"
   ]
  },
  {
   "cell_type": "code",
   "execution_count": 39,
   "id": "scenic-treaty",
   "metadata": {},
   "outputs": [],
   "source": [
    "dictionary = gensim.corpora.Dictionary(list(tweet['Lemmatized_Tokens']))"
   ]
  },
  {
   "cell_type": "code",
   "execution_count": 40,
   "id": "hungarian-significance",
   "metadata": {},
   "outputs": [
    {
     "data": {
      "text/plain": [
       "<gensim.corpora.dictionary.Dictionary at 0x7fe382bb5898>"
      ]
     },
     "execution_count": 40,
     "metadata": {},
     "output_type": "execute_result"
    }
   ],
   "source": [
    "dictionary"
   ]
  },
  {
   "cell_type": "code",
   "execution_count": 41,
   "id": "crude-bobby",
   "metadata": {},
   "outputs": [
    {
     "name": "stdout",
     "output_type": "stream",
     "text": [
      "0 fully\n",
      "1 number\n",
      "2 people\n",
      "3 po\n",
      "4 surpassed\n",
      "5 test\n",
      "6 vaccinate\n",
      "7 virginia\n",
      "8 act\n",
      "9 choose\n",
      "10 covid19all\n"
     ]
    }
   ],
   "source": [
    "count = 0\n",
    "for k, v in dictionary.iteritems():\n",
    "    print(k, v)\n",
    "    count += 1\n",
    "    if count > 10:\n",
    "        break"
   ]
  },
  {
   "cell_type": "code",
   "execution_count": 45,
   "id": "authentic-thriller",
   "metadata": {},
   "outputs": [],
   "source": [
    "bow_corpus = [dictionary.doc2bow(doc) for doc in list(tweet['Lemmatized_Tokens'])]"
   ]
  },
  {
   "cell_type": "code",
   "execution_count": 46,
   "id": "sublime-representative",
   "metadata": {},
   "outputs": [
    {
     "name": "stdout",
     "output_type": "stream",
     "text": [
      "Word 18 (\"covid\") appears 1 time.\n",
      "Word 40 (\"hour\") appears 1 time.\n",
      "Word 175 (\"us\") appears 1 time.\n",
      "Word 191 (\"two\") appears 1 time.\n",
      "Word 243 (\"bitch\") appears 1 time.\n",
      "Word 244 (\"documentary\") appears 1 time.\n",
      "Word 245 (\"double\") appears 1 time.\n",
      "Word 246 (\"follow\") appears 1 time.\n",
      "Word 247 (\"hit\") appears 1 time.\n",
      "Word 248 (\"last\") appears 1 time.\n",
      "Word 249 (\"save\") appears 1 time.\n",
      "Word 250 (\"week\") appears 1 time.\n"
     ]
    }
   ],
   "source": [
    "document_num = 30\n",
    "bow_doc_x = bow_corpus[document_num]\n",
    "\n",
    "for i in range(len(bow_doc_x)):\n",
    "    print(\"Word {} (\\\"{}\\\") appears {} time.\".format(bow_doc_x[i][0], \n",
    "                                                     dictionary[bow_doc_x[i][0]], \n",
    "                                                     bow_doc_x[i][1]))"
   ]
  },
  {
   "cell_type": "code",
   "execution_count": 47,
   "id": "existing-crash",
   "metadata": {},
   "outputs": [],
   "source": [
    "lda_model =  gensim.models.LdaMulticore(bow_corpus, \n",
    "                                   num_topics = 3, \n",
    "                                   id2word = dictionary,                                    \n",
    "                                   passes = 10,\n",
    "                                   workers = 2)"
   ]
  },
  {
   "cell_type": "code",
   "execution_count": 48,
   "id": "retired-local",
   "metadata": {},
   "outputs": [
    {
     "name": "stdout",
     "output_type": "stream",
     "text": [
      "Topic: 0 \n",
      "Words: 0.033*\"coronavirus\" + 0.024*\"vaccine\" + 0.018*\"year\" + 0.017*\"covid19\" + 0.015*\"call\" + 0.014*\"racism\" + 0.014*\"johnson\" + 0.012*\"us\" + 0.012*\"protect\" + 0.012*\"lin\"\n",
      "\n",
      "\n",
      "Topic: 1 \n",
      "Words: 0.041*\"coronavirus\" + 0.022*\"call\" + 0.020*\"jeremy\" + 0.019*\"lin\" + 0.019*\"court\" + 0.014*\"year\" + 0.013*\"doesnt\" + 0.013*\"nba\" + 0.013*\"protect\" + 0.012*\"veteran\"\n",
      "\n",
      "\n",
      "Topic: 2 \n",
      "Words: 0.049*\"covid\" + 0.023*\"relief\" + 0.020*\"covid19\" + 0.015*\"bill\" + 0.011*\"democrat\" + 0.011*\"get\" + 0.008*\"everything\" + 0.008*\"remove\" + 0.008*\"band\" + 0.008*\"th\"\n",
      "\n",
      "\n"
     ]
    }
   ],
   "source": [
    "for idx, topic in lda_model.print_topics(-1):\n",
    "    print(\"Topic: {} \\nWords: {}\".format(idx, topic ))\n",
    "    print(\"\\n\")"
   ]
  },
  {
   "cell_type": "code",
   "execution_count": 49,
   "id": "tracked-gravity",
   "metadata": {},
   "outputs": [],
   "source": [
    "#!pip install pyLDAvis"
   ]
  },
  {
   "cell_type": "code",
   "execution_count": 50,
   "id": "responsible-jones",
   "metadata": {
    "scrolled": false
   },
   "outputs": [
    {
     "data": {
      "text/html": [
       "\n",
       "<link rel=\"stylesheet\" type=\"text/css\" href=\"https://cdn.jsdelivr.net/gh/bmabey/pyLDAvis@3.2.2/pyLDAvis/js/ldavis.v1.0.0.css\">\n",
       "\n",
       "\n",
       "<div id=\"ldavis_el17331406151348511442015882862\"></div>\n",
       "<script type=\"text/javascript\">\n",
       "\n",
       "var ldavis_el17331406151348511442015882862_data = {\"mdsDat\": {\"x\": [0.08462668136822286, -0.22502337177105497, 0.1403966904028321], \"y\": [0.18408524792157296, -0.02809488860203594, -0.1559903593195371], \"topics\": [1, 2, 3], \"cluster\": [1, 1, 1], \"Freq\": [39.11327947071721, 34.745973642401374, 26.140746886881416]}, \"tinfo\": {\"Term\": [\"covid\", \"jeremy\", \"court\", \"coronavirus\", \"relief\", \"call\", \"racism\", \"bill\", \"lin\", \"johnson\", \"vaccine\", \"detail\", \"year\", \"courtjeremy\", \"tha\", \"democrat\", \"doesnt\", \"new\", \"nba\", \"protect\", \"veteran\", \"package\", \"case\", \"everything\", \"remove\", \"band\", \"th\", \"korean\", \"agree\", \"relate\", \"detail\", \"tha\", \"courtjeremy\", \"johnson\", \"racism\", \"panel\", \"report\", \"fda\", \"recommend\", \"adviser\", \"couple\", \"within\", \"prevent\", \"z\", \"ten\", \"ventilation\", \"recommendation\", \"authorization\", \"importance\", \"dayca\", \"case\", \"surge\", \"expert\", \"national\", \"agency\", \"three\", \"remain\", \"advisory\", \"singledose\", \"act\", \"ago\", \"new\", \"break\", \"march\", \"emergency\", \"cdc\", \"dose\", \"number\", \"every\", \"us\", \"health\", \"vaccine\", \"receive\", \"day\", \"today\", \"year\", \"test\", \"death\", \"coronavirus\", \"protect\", \"veteran\", \"nba\", \"doesnt\", \"covid19\", \"call\", \"lin\", \"amp\", \"say\", \"million\", \"people\", \"go\", \"covid\", \"democrat\", \"band\", \"agree\", \"relate\", \"korean\", \"rt\", \"immediately\", \"th\", \"remove\", \"everything\", \"without\", \"fix\", \"coldplays\", \"place\", \"kill\", \"regional\", \"exacerbate\", \"hub\", \"whitmers\", \"policy\", \"cover\", \"south\", \"devastate\", \"minimum\", \"astrazenecas\", \"weve\", \"anything\", \"yet\", \"institute\", \"nothing\", \"bill\", \"im\", \"really\", \"still\", \"may\", \"wage\", \"covid\", \"bts\", \"relief\", \"patient\", \"compare\", \"get\", \"covid19\", \"matuschik\", \"matthias\", \"virus\", \"vaccine\", \"people\", \"coronavirus\", \"amp\", \"jeremy\", \"court\", \"asian\", \"package\", \"perfect\", \"barely\", \"encapsulation\", \"bomb\", \"syria\", \"republicans\", \"station\", \"pretty\", \"upset\", \"offerin\", \"trend\", \"name\", \"hashtag\", \"kp\", \"worldwide\", \"bavarian\", \"decrease\", \"bolsonaro\", \"headache\", \"kpop\", \"disparage\", \"jair\", \"there\", \"asians\", \"solution\", \"19\", \"president\", \"lead\", \"trillion\", \"hold\", \"bidens\", \"fan\", \"thing\", \"pass\", \"lin\", \"coronavirus\", \"call\", \"much\", \"like\", \"house\", \"month\", \"doesnt\", \"nba\", \"veteran\", \"protect\", \"year\", \"say\", \"relief\", \"office\", \"take\", \"amp\", \"time\", \"radio\", \"covid\"], \"Freq\": [2999.0, 733.0, 703.0, 3669.0, 1543.0, 1578.0, 781.0, 726.0, 1349.0, 744.0, 1672.0, 639.0, 1486.0, 617.0, 614.0, 539.0, 1115.0, 648.0, 1095.0, 1106.0, 1070.0, 356.0, 516.0, 412.0, 399.0, 394.0, 394.0, 389.0, 384.0, 379.0, 638.5727184741035, 613.3857706170922, 616.5805506303143, 743.7754071286082, 780.3909610946619, 203.78741182776866, 210.26830862951803, 281.8983171894526, 174.62349054965705, 162.93596564308032, 147.96214610168224, 130.42941056485128, 134.22618758015125, 121.06232247668306, 107.17233636119155, 103.20660536653695, 98.13226314622158, 99.84745091603226, 93.19887681725348, 87.86313865459373, 512.7311706471334, 87.5198254388758, 111.91453157239447, 82.2387940665988, 77.94110661243252, 77.94700729840322, 69.24721120884547, 90.97945669386962, 63.30321966554899, 69.11148272821279, 202.29920674240222, 631.6544468220399, 125.0648295442874, 125.18402467122608, 136.3322179877667, 187.0976550214635, 143.31480648174556, 166.57179176225827, 167.72229214182295, 669.1578603012555, 232.15105018923498, 1301.606212979968, 223.18523415368736, 344.93824811995614, 306.2234473120746, 957.4305443623169, 312.716386848593, 244.29327725648986, 1796.5605794582898, 649.1265240692906, 614.3857241087372, 624.5321092508519, 629.5020493449023, 927.8197461604657, 793.4861394187037, 647.1072572465616, 457.84389168251965, 427.6891378869868, 274.82631011948297, 340.11996010151006, 295.8416190832412, 478.4162871542344, 538.4016957541501, 394.2441387374814, 383.6753046643208, 379.38980285097307, 389.2725160721879, 375.4366859648163, 369.54778291581283, 393.46746798889063, 398.58633580017414, 411.484866142399, 267.03329279881274, 228.29423240500495, 218.7708524102319, 229.0747851531528, 205.38610162348502, 189.46992600929588, 186.47830367622285, 186.82250387532153, 184.72395585313896, 219.71643527908464, 250.6596280507768, 182.2271079054724, 161.39023830041126, 102.12243073150171, 79.31291853756656, 91.7139774074834, 72.07739046779501, 69.9620618254341, 56.87371976068079, 57.99906516425508, 717.6283339787217, 201.97066424574624, 128.46090622045483, 220.64610646370636, 302.5454636305776, 142.2844922303862, 2358.2981195681955, 252.64533853350858, 1129.295247844535, 247.14425175420854, 254.95081744487092, 519.5620359270202, 955.530176740982, 229.87759168945917, 228.12875088900276, 249.91304279875322, 367.00505063617237, 278.8923274805748, 373.8335329965741, 283.2114808133387, 732.1153754269175, 700.9470900661744, 186.32147428041495, 355.32513648440397, 134.37591682292728, 136.90198859773747, 131.00926160264916, 144.70376407171213, 141.94499684730812, 120.42595706464844, 112.70503239213619, 109.35754771787322, 98.66375359358331, 97.4133976045279, 97.24273899272532, 100.73737331425771, 81.36394043547098, 81.71047904339825, 90.72490616858367, 80.1815558332168, 72.27337448979674, 69.35081710873905, 69.17008080069202, 68.9781079037827, 67.86644122138374, 66.98753366399716, 117.43154834128514, 63.20548123815857, 63.52346354337464, 288.66206728323255, 215.75490163729057, 101.51532561802782, 297.35469582311606, 140.05077200586305, 79.64113831085123, 109.24791562722066, 163.120223329955, 199.5617332935666, 701.9695644672793, 1499.1364267018373, 784.1944644821581, 203.18472876886463, 220.55944119931775, 269.84289071777886, 207.72276547906935, 485.39479512069306, 470.9316114888026, 455.55303003966156, 456.8440618860945, 518.8085304416147, 335.55203422844164, 413.50765873978315, 148.4198784791156, 169.67778961527947, 231.83299576458887, 166.55261705235677, 153.81688809566901, 162.7821493076686], \"Total\": [2999.0, 733.0, 703.0, 3669.0, 1543.0, 1578.0, 781.0, 726.0, 1349.0, 744.0, 1672.0, 639.0, 1486.0, 617.0, 614.0, 539.0, 1115.0, 648.0, 1095.0, 1106.0, 1070.0, 356.0, 516.0, 412.0, 399.0, 394.0, 394.0, 389.0, 384.0, 379.0, 639.2356021836414, 614.0512820057488, 617.2510650981048, 744.7156586470464, 781.6601287780921, 204.53651315171172, 211.08139465398324, 282.98923643850725, 175.30136141402974, 163.6107236968528, 148.62415835681645, 131.08506410297107, 134.90320709884554, 121.81348522951468, 107.83923881428714, 103.86227188177907, 98.78240056087189, 100.53750949567309, 93.86776212815685, 88.51097446780588, 516.5282467951768, 88.18720588184463, 112.82409827239148, 82.92651890600654, 78.63310076828932, 78.67992379706001, 69.96629761732167, 91.92823446185619, 63.97300559552171, 69.8828704598273, 205.1522841572512, 648.220774414524, 126.70036067105028, 127.94011892481019, 139.70203010936544, 194.21322537627427, 147.9156350555201, 174.8665473878675, 176.53761849114684, 788.932300100274, 250.90884259008, 1672.9244804647706, 242.23919828301516, 401.85529703789643, 373.70567371175395, 1486.7250806612524, 390.40719581481153, 289.993729133006, 3669.530539156701, 1106.4200936798045, 1070.285164487314, 1095.810451353231, 1115.2529465568907, 1962.500802939649, 1578.8223033031604, 1349.4396031110489, 972.8883682604472, 882.9029056712686, 412.6133343445802, 722.3148039079825, 541.5491090830554, 2999.4965560300984, 539.186032887346, 394.85633748070705, 384.2860540788389, 379.994378880281, 389.90199309282923, 376.04648240481725, 370.15298729402275, 394.1205942788524, 399.4094567367151, 412.40176495182766, 267.64911494199083, 228.90875499045904, 219.38354653235294, 229.72659559306987, 206.02179902270288, 190.0770683101765, 187.08295897381166, 187.42923605869146, 185.3279810752973, 220.44688821127087, 251.50116204582068, 182.8997550737771, 161.99224658255085, 102.81956807626113, 79.91479276782646, 92.42139856297243, 72.83289220718643, 70.70506634246506, 57.48933425030017, 58.63840863733493, 726.036473005674, 204.3324189243211, 130.46962089915738, 228.3531250964963, 321.59376348829187, 146.91793203528374, 2999.4965560300984, 272.9192310392972, 1543.1978237581307, 277.61998085442224, 289.69800540428514, 787.7928162349557, 1962.500802939649, 275.23505781379873, 273.52878718244403, 327.1306682169959, 1672.9244804647706, 722.3148039079825, 3669.530539156701, 972.8883682604472, 733.2521100946814, 703.0875495031086, 186.98662593876136, 356.7778767113662, 135.02523704648547, 137.5673722333974, 131.65478027492762, 145.45060534130945, 142.6852101335389, 121.11982636491223, 113.37278138974699, 110.02801450422655, 99.31485938481795, 98.05679986213009, 97.92804877794325, 101.46042127471212, 82.00895485749578, 82.36079526754506, 91.45078004226113, 80.82622981848786, 72.93851596000354, 69.99707521463107, 69.82000350877266, 69.63214822737994, 68.51139840545824, 67.6317760214338, 118.57582395183539, 63.853205588266256, 64.17785418396664, 291.84114150977234, 219.8851700562648, 103.02335543949818, 307.04672390341125, 146.3545775382949, 81.14307230139667, 116.10563574100213, 186.94540665237673, 265.55218864506924, 1349.4396031110489, 3669.530539156701, 1578.8223033031604, 277.35203422339475, 316.9200002867433, 447.2074885043833, 307.98043864736565, 1115.2529465568907, 1095.810451353231, 1070.285164487314, 1106.4200936798045, 1486.7250806612524, 882.9029056712686, 1543.1978237581307, 212.69854949607392, 326.4815208572049, 972.8883682604472, 311.48141664295815, 357.4358809375403, 2999.4965560300984], \"Category\": [\"Default\", \"Default\", \"Default\", \"Default\", \"Default\", \"Default\", \"Default\", \"Default\", \"Default\", \"Default\", \"Default\", \"Default\", \"Default\", \"Default\", \"Default\", \"Default\", \"Default\", \"Default\", \"Default\", \"Default\", \"Default\", \"Default\", \"Default\", \"Default\", \"Default\", \"Default\", \"Default\", \"Default\", \"Default\", \"Default\", \"Topic1\", \"Topic1\", \"Topic1\", \"Topic1\", \"Topic1\", \"Topic1\", \"Topic1\", \"Topic1\", \"Topic1\", \"Topic1\", \"Topic1\", \"Topic1\", \"Topic1\", \"Topic1\", \"Topic1\", \"Topic1\", \"Topic1\", \"Topic1\", \"Topic1\", \"Topic1\", \"Topic1\", \"Topic1\", \"Topic1\", \"Topic1\", \"Topic1\", \"Topic1\", \"Topic1\", \"Topic1\", \"Topic1\", \"Topic1\", \"Topic1\", \"Topic1\", \"Topic1\", \"Topic1\", \"Topic1\", \"Topic1\", \"Topic1\", \"Topic1\", \"Topic1\", \"Topic1\", \"Topic1\", \"Topic1\", \"Topic1\", \"Topic1\", \"Topic1\", \"Topic1\", \"Topic1\", \"Topic1\", \"Topic1\", \"Topic1\", \"Topic1\", \"Topic1\", \"Topic1\", \"Topic1\", \"Topic1\", \"Topic1\", \"Topic1\", \"Topic1\", \"Topic1\", \"Topic1\", \"Topic1\", \"Topic1\", \"Topic2\", \"Topic2\", \"Topic2\", \"Topic2\", \"Topic2\", \"Topic2\", \"Topic2\", \"Topic2\", \"Topic2\", \"Topic2\", \"Topic2\", \"Topic2\", \"Topic2\", \"Topic2\", \"Topic2\", \"Topic2\", \"Topic2\", \"Topic2\", \"Topic2\", \"Topic2\", \"Topic2\", \"Topic2\", \"Topic2\", \"Topic2\", \"Topic2\", \"Topic2\", \"Topic2\", \"Topic2\", \"Topic2\", \"Topic2\", \"Topic2\", \"Topic2\", \"Topic2\", \"Topic2\", \"Topic2\", \"Topic2\", \"Topic2\", \"Topic2\", \"Topic2\", \"Topic2\", \"Topic2\", \"Topic2\", \"Topic2\", \"Topic2\", \"Topic2\", \"Topic2\", \"Topic2\", \"Topic2\", \"Topic2\", \"Topic2\", \"Topic3\", \"Topic3\", \"Topic3\", \"Topic3\", \"Topic3\", \"Topic3\", \"Topic3\", \"Topic3\", \"Topic3\", \"Topic3\", \"Topic3\", \"Topic3\", \"Topic3\", \"Topic3\", \"Topic3\", \"Topic3\", \"Topic3\", \"Topic3\", \"Topic3\", \"Topic3\", \"Topic3\", \"Topic3\", \"Topic3\", \"Topic3\", \"Topic3\", \"Topic3\", \"Topic3\", \"Topic3\", \"Topic3\", \"Topic3\", \"Topic3\", \"Topic3\", \"Topic3\", \"Topic3\", \"Topic3\", \"Topic3\", \"Topic3\", \"Topic3\", \"Topic3\", \"Topic3\", \"Topic3\", \"Topic3\", \"Topic3\", \"Topic3\", \"Topic3\", \"Topic3\", \"Topic3\", \"Topic3\", \"Topic3\", \"Topic3\", \"Topic3\", \"Topic3\", \"Topic3\", \"Topic3\", \"Topic3\", \"Topic3\", \"Topic3\", \"Topic3\"], \"logprob\": [30.0, 29.0, 28.0, 27.0, 26.0, 25.0, 24.0, 23.0, 22.0, 21.0, 20.0, 19.0, 18.0, 17.0, 16.0, 15.0, 14.0, 13.0, 12.0, 11.0, 10.0, 9.0, 8.0, 7.0, 6.0, 5.0, 4.0, 3.0, 2.0, 1.0, -4.4478, -4.4881, -4.4829, -4.2953, -4.2473, -5.59, -5.5587, -5.2655, -5.7444, -5.8137, -5.9101, -6.0362, -6.0075, -6.1108, -6.2326, -6.2703, -6.3207, -6.3034, -6.3723, -6.4313, -4.6673, -6.4352, -6.1893, -6.4974, -6.5511, -6.551, -6.6694, -6.3964, -6.7591, -6.6713, -5.5973, -4.4587, -6.0782, -6.0773, -5.992, -5.6754, -5.942, -5.7916, -5.7848, -4.401, -5.4597, -3.7357, -5.4991, -5.0637, -5.1827, -4.0428, -5.1618, -5.4087, -3.4134, -4.4314, -4.4864, -4.4701, -4.4621, -4.0742, -4.2306, -4.4345, -4.7805, -4.8487, -5.2909, -5.0778, -5.2172, -4.7366, -4.5001, -4.8117, -4.8389, -4.8501, -4.8244, -4.8606, -4.8764, -4.8137, -4.8007, -4.7689, -5.2013, -5.358, -5.4006, -5.3546, -5.4638, -5.5444, -5.5603, -5.5585, -5.5698, -5.3963, -5.2646, -5.5834, -5.7048, -6.1625, -6.4153, -6.27, -6.5109, -6.5407, -6.7478, -6.7282, -4.2127, -5.4805, -5.933, -5.3921, -5.0764, -5.8308, -3.023, -5.2567, -3.7593, -5.2787, -5.2476, -4.5357, -3.9264, -5.3511, -5.3588, -5.2676, -4.8833, -5.1578, -4.8649, -5.1425, -3.9082, -3.9517, -5.2766, -4.6311, -5.6035, -5.5848, -5.6288, -5.5294, -5.5487, -5.7131, -5.7793, -5.8095, -5.9124, -5.9251, -5.9269, -5.8916, -6.1052, -6.1009, -5.9963, -6.1198, -6.2236, -6.2649, -6.2675, -6.2703, -6.2866, -6.2996, -5.7382, -6.3577, -6.3527, -4.8388, -5.13, -5.8839, -4.8092, -5.5621, -6.1266, -5.8105, -5.4096, -5.208, -3.9502, -3.1915, -3.8394, -5.19, -5.1079, -4.9063, -5.1679, -4.3191, -4.3494, -4.3826, -4.3798, -4.2526, -4.6883, -4.4794, -5.504, -5.3702, -5.0581, -5.3888, -5.4683, -5.4117], \"loglift\": [30.0, 29.0, 28.0, 27.0, 26.0, 25.0, 24.0, 23.0, 22.0, 21.0, 20.0, 19.0, 18.0, 17.0, 16.0, 15.0, 14.0, 13.0, 12.0, 11.0, 10.0, 9.0, 8.0, 7.0, 6.0, 5.0, 4.0, 3.0, 2.0, 1.0, 0.9377, 0.9376, 0.9376, 0.9374, 0.9371, 0.935, 0.9348, 0.9348, 0.9348, 0.9346, 0.9342, 0.9337, 0.9337, 0.9325, 0.9325, 0.9324, 0.9321, 0.9318, 0.9316, 0.9314, 0.9313, 0.9311, 0.9306, 0.9304, 0.9299, 0.9293, 0.9284, 0.9283, 0.9282, 0.9276, 0.9247, 0.9128, 0.9257, 0.9169, 0.9143, 0.9014, 0.9071, 0.8901, 0.8875, 0.774, 0.861, 0.6877, 0.8568, 0.786, 0.7396, 0.4986, 0.7168, 0.7672, 0.2245, 0.4055, 0.3837, 0.3765, 0.3668, 0.1896, 0.2507, 0.2038, 0.185, 0.2139, 0.5323, 0.1855, 0.3341, -0.897, 1.0557, 1.0556, 1.0555, 1.0555, 1.0555, 1.0555, 1.0555, 1.0554, 1.055, 1.0549, 1.0548, 1.0544, 1.0543, 1.0543, 1.054, 1.0539, 1.0539, 1.0539, 1.0538, 1.0538, 1.0538, 1.0534, 1.0534, 1.0503, 1.0495, 1.0494, 1.0467, 1.0465, 1.0463, 1.0461, 1.0455, 1.0455, 1.0416, 1.0228, 0.996, 1.0251, 0.8166, 0.9799, 0.7448, 0.9408, 0.9293, 0.6409, 0.3374, 0.877, 0.8756, 0.7879, -0.4598, 0.1055, -1.2269, -0.177, 1.3401, 1.3386, 1.3381, 1.3376, 1.3369, 1.3368, 1.3368, 1.3365, 1.3365, 1.3359, 1.3358, 1.3356, 1.3351, 1.3351, 1.3347, 1.3345, 1.3338, 1.3337, 1.3337, 1.3337, 1.3325, 1.3324, 1.3323, 1.3322, 1.3322, 1.3321, 1.332, 1.3315, 1.3314, 1.3307, 1.3227, 1.3269, 1.3096, 1.2976, 1.323, 1.2808, 1.2053, 1.056, 0.6881, 0.4465, 0.6419, 1.0305, 0.9792, 0.8365, 0.9478, 0.5098, 0.4971, 0.4875, 0.4571, 0.2889, 0.3742, 0.0247, 0.9818, 0.6872, -0.0926, 0.7156, 0.4985, -1.5721]}, \"token.table\": {\"Topic\": [2, 3, 1, 1, 1, 3, 1, 1, 3, 2, 1, 2, 3, 2, 3, 3, 2, 1, 2, 3, 3, 1, 2, 3, 2, 3, 3, 3, 1, 2, 1, 2, 1, 2, 3, 1, 2, 3, 1, 3, 2, 1, 2, 1, 2, 3, 1, 1, 2, 3, 1, 2, 1, 2, 3, 1, 2, 3, 1, 2, 3, 1, 1, 2, 3, 3, 2, 1, 2, 3, 1, 3, 1, 2, 1, 3, 3, 1, 2, 3, 1, 2, 2, 1, 2, 2, 3, 1, 3, 2, 1, 2, 3, 1, 2, 3, 3, 3, 1, 2, 3, 1, 3, 1, 2, 3, 2, 1, 2, 3, 2, 1, 2, 3, 1, 3, 1, 3, 2, 2, 3, 3, 1, 2, 3, 1, 2, 3, 1, 3, 1, 2, 3, 2, 3, 2, 3, 1, 2, 3, 1, 2, 3, 2, 1, 2, 3, 1, 2, 3, 3, 1, 1, 3, 1, 2, 3, 2, 1, 2, 3, 3, 2, 3, 2, 3, 1, 1, 2, 3, 1, 2, 1, 2, 3, 3, 2, 2, 1, 3, 3, 1, 1, 3, 1, 3, 1, 2, 3, 1, 2, 1, 2, 3, 1, 1, 2, 2, 2, 3, 1, 1, 2, 1, 3, 2, 1, 2, 3, 1, 3, 2, 3, 1, 2, 3, 1, 3, 1, 2, 3, 1, 1, 2, 2, 1, 2, 3, 1, 2, 3, 1, 1, 2, 3, 1, 2, 3, 3, 2, 3, 3, 1, 2, 3, 1, 2, 3, 1, 1, 3, 1, 2, 3, 2, 3, 2, 2, 1, 2, 3, 1, 2, 3, 2, 1], \"Freq\": [0.010279565055427747, 0.9902647670062064, 0.9873664253626384, 0.9962672147457499, 0.9899026184143529, 0.010878050751806076, 0.9919486734962303, 0.98463441842629, 0.009748855627983069, 0.9992556220143752, 0.4707631573588626, 0.2908864050929217, 0.23846518014684745, 0.9885643397928354, 0.9947235480943729, 0.9866380147965031, 0.9885528982039137, 0.9946536422239878, 0.9978312682375298, 0.9958756773195114, 0.9897777018630792, 0.012323910983868275, 0.012323910983868275, 0.985912878709462, 0.9889310340396478, 0.01101873018428577, 0.9857554731883618, 0.9969020043591288, 0.9865796698443118, 0.007892637358754494, 0.0732817541799399, 0.9270141903762398, 0.5022731173362014, 0.0006333835023155125, 0.49657266581536175, 0.9931693052276077, 0.001936002544303329, 0.005808007632909987, 0.9628592472922524, 0.03604285952430891, 0.9982517078494928, 0.11736359714507402, 0.8802269785880552, 0.4897084193262964, 0.10192039445077064, 0.40849912107407804, 0.9958004246165824, 0.0014222979779783154, 0.0014222979779783154, 0.997030882562799, 0.9995932528718036, 0.9980073171760162, 0.15936007628981705, 0.786131924458972, 0.0543424527933895, 0.47286604856922343, 0.4871335586553638, 0.04025476060018173, 0.8585179853121738, 0.03234995306973409, 0.10949214885140766, 0.994226993083307, 0.841397504454619, 0.058621957277575916, 0.10000216241468832, 0.9871327796068927, 0.9978003271320016, 0.9996314313801725, 0.9938747279361596, 0.9925355719287509, 0.5648942707974839, 0.43487892275679313, 0.9667673058789558, 0.027042442122488273, 0.9735005274693052, 0.021474276341234673, 0.995026536267348, 0.9516385314126405, 0.04531612054345907, 0.005664515067932384, 0.0024248198843591496, 0.9966009724716105, 0.994211343567838, 0.9926957247165241, 0.008863354684968966, 0.05167707804799634, 0.9388002512052668, 0.9965043319281078, 0.003533703304709602, 0.9960300557726728, 0.27418376449827764, 0.6600720256440017, 0.06600720256440017, 0.5465801624181115, 0.4080885672108197, 0.04431731046633336, 0.9876970160240548, 0.9882554645149849, 0.9246385962531732, 0.03586960071671793, 0.039855111907464366, 0.040996326188909596, 0.9565809444078907, 0.26833182154735724, 0.12969371374788932, 0.6037465984815538, 0.9977098767101785, 0.0048939860119327, 0.9885851744104054, 0.0048939860119327, 0.9995866917213309, 0.9907554829423535, 0.9914882602715545, 0.9906585918838865, 0.0013637874153145972, 0.9982923880102852, 0.9990390175918328, 0.0013427943784836464, 0.9950403354035837, 0.9976866158449863, 0.9956193323974953, 0.9909216038356924, 0.009706536888980122, 0.009706536888980122, 0.9900667626759725, 0.012621481750539173, 0.290294080262401, 0.6973368667172893, 0.4794582866164457, 0.5202159462206257, 0.9770195701745589, 0.01563231312279294, 0.00781615656139647, 0.833550290441363, 0.16451650469237428, 0.8356493603209478, 0.16349661397583762, 0.05597123465565998, 0.9421824500369429, 0.0031095130364255544, 0.666483550360355, 0.24478123122325765, 0.0896723322303023, 0.992029065171201, 0.107149662312757, 0.2175462840895369, 0.6753675685167713, 0.007211052212399094, 0.2595978796463674, 0.731921799558508, 0.9954620602898396, 0.9888272302005502, 0.5703541148272305, 0.4298188609338009, 0.9749764662677238, 0.016969527102761017, 0.0092561056924151, 0.9891127905383084, 0.9550139949271206, 0.022874586704841212, 0.022874586704841212, 0.9892225744301673, 0.3008953288662711, 0.6958204480032518, 0.0028028643738159846, 0.9950168527046745, 0.9973769321504284, 0.10920640552038799, 0.1393323104915295, 0.7531476242785378, 0.10806138631545881, 0.8897054139972775, 0.4707088905841025, 0.38625817786166056, 0.1425971050887134, 0.9924070709379128, 0.9968371289741439, 0.9979728078046509, 0.01819131321578654, 0.982330913652473, 0.990656793100751, 0.9933047766745549, 0.5865764764281469, 0.41304383625217744, 0.9978761501105509, 0.0012793283975776294, 0.002797704576767837, 0.5679340290838708, 0.43084650482224685, 0.015329238992315619, 0.9810712955081996, 0.9205776834658385, 0.004128151046932011, 0.0743067188447762, 0.9982808951875851, 0.992079555098585, 0.9943335178738191, 0.997383174763766, 0.7315977139279267, 0.2682740952756082, 0.9861890988914862, 0.0025036963525357525, 0.9989748446617653, 0.9948768831295818, 0.9907543925836023, 0.997217146140751, 0.4847645162913954, 0.13591528494151273, 0.3805627978362356, 0.9847903723380815, 0.9972287296571677, 0.9950806108328895, 0.9967118969370129, 0.013137547378571129, 0.9677993235547397, 0.021895912297618548, 0.99787717640022, 0.9951977494170726, 0.11026657773915949, 0.37061821962328606, 0.5207032837682531, 0.9922176860341864, 0.80172702592416, 0.19722997123373903, 0.9971567223455987, 0.9982879573147134, 0.00843342231723553, 0.9867104111165571, 0.053491552315029105, 0.07488817324104075, 0.8719123027349744, 0.9913583571990519, 0.23757436574402122, 0.22794297253818252, 0.5361475551250209, 0.8188262087666975, 0.0026759026430284234, 0.17660957443987593, 0.9905231566489429, 0.02931149984466586, 0.9672794948739734, 0.9968296850363755, 0.8479815060366643, 0.14830169836515655, 0.0038026076503886296, 0.7782778094312299, 0.21937631033891042, 0.002391022456009923, 0.9916979297086767, 0.573678885191422, 0.42605467694998117, 0.1711854174517611, 0.7642206136239335, 0.06725141399890615, 0.9665259919796404, 0.02722608428111663, 0.9954404654168342, 0.9982302668307598, 0.9917224429007508, 0.9975747540127995, 0.9950707906258118, 0.6436966810127088, 0.0067261931140303955, 0.34908942261817755, 0.9900280647634213, 0.9933218787067626], \"Term\": [\"19\", \"19\", \"act\", \"adviser\", \"advisory\", \"advisory\", \"agency\", \"ago\", \"ago\", \"agree\", \"amp\", \"amp\", \"amp\", \"anything\", \"asian\", \"asians\", \"astrazenecas\", \"authorization\", \"band\", \"barely\", \"bavarian\", \"bidens\", \"bidens\", \"bidens\", \"bill\", \"bill\", \"bolsonaro\", \"bomb\", \"break\", \"break\", \"bts\", \"bts\", \"call\", \"call\", \"call\", \"case\", \"case\", \"case\", \"cdc\", \"cdc\", \"coldplays\", \"compare\", \"compare\", \"coronavirus\", \"coronavirus\", \"coronavirus\", \"couple\", \"court\", \"court\", \"court\", \"courtjeremy\", \"cover\", \"covid\", \"covid\", \"covid\", \"covid19\", \"covid19\", \"covid19\", \"day\", \"day\", \"day\", \"dayca\", \"death\", \"death\", \"death\", \"decrease\", \"democrat\", \"detail\", \"devastate\", \"disparage\", \"doesnt\", \"doesnt\", \"dose\", \"dose\", \"emergency\", \"emergency\", \"encapsulation\", \"every\", \"every\", \"every\", \"everything\", \"everything\", \"exacerbate\", \"expert\", \"expert\", \"fan\", \"fan\", \"fda\", \"fda\", \"fix\", \"get\", \"get\", \"get\", \"go\", \"go\", \"go\", \"hashtag\", \"headache\", \"health\", \"health\", \"health\", \"hold\", \"hold\", \"house\", \"house\", \"house\", \"hub\", \"im\", \"im\", \"im\", \"immediately\", \"importance\", \"institute\", \"jair\", \"jeremy\", \"jeremy\", \"johnson\", \"johnson\", \"kill\", \"korean\", \"kp\", \"kpop\", \"lead\", \"lead\", \"lead\", \"like\", \"like\", \"like\", \"lin\", \"lin\", \"march\", \"march\", \"march\", \"matthias\", \"matthias\", \"matuschik\", \"matuschik\", \"may\", \"may\", \"may\", \"million\", \"million\", \"million\", \"minimum\", \"month\", \"month\", \"month\", \"much\", \"much\", \"much\", \"name\", \"national\", \"nba\", \"nba\", \"new\", \"new\", \"new\", \"nothing\", \"number\", \"number\", \"number\", \"offerin\", \"office\", \"office\", \"package\", \"package\", \"panel\", \"pass\", \"pass\", \"pass\", \"patient\", \"patient\", \"people\", \"people\", \"people\", \"perfect\", \"place\", \"policy\", \"president\", \"president\", \"pretty\", \"prevent\", \"protect\", \"protect\", \"racism\", \"racism\", \"radio\", \"radio\", \"radio\", \"really\", \"really\", \"receive\", \"receive\", \"receive\", \"recommend\", \"recommendation\", \"regional\", \"relate\", \"relief\", \"relief\", \"remain\", \"remove\", \"remove\", \"report\", \"republicans\", \"rt\", \"say\", \"say\", \"say\", \"singledose\", \"solution\", \"south\", \"station\", \"still\", \"still\", \"still\", \"surge\", \"syria\", \"take\", \"take\", \"take\", \"ten\", \"test\", \"test\", \"th\", \"tha\", \"there\", \"there\", \"thing\", \"thing\", \"thing\", \"three\", \"time\", \"time\", \"time\", \"today\", \"today\", \"today\", \"trend\", \"trillion\", \"trillion\", \"upset\", \"us\", \"us\", \"us\", \"vaccine\", \"vaccine\", \"vaccine\", \"ventilation\", \"veteran\", \"veteran\", \"virus\", \"virus\", \"virus\", \"wage\", \"wage\", \"weve\", \"whitmers\", \"within\", \"without\", \"worldwide\", \"year\", \"year\", \"year\", \"yet\", \"z\"]}, \"R\": 30, \"lambda.step\": 0.01, \"plot.opts\": {\"xlab\": \"PC1\", \"ylab\": \"PC2\"}, \"topic.order\": [1, 3, 2]};\n",
       "\n",
       "function LDAvis_load_lib(url, callback){\n",
       "  var s = document.createElement('script');\n",
       "  s.src = url;\n",
       "  s.async = true;\n",
       "  s.onreadystatechange = s.onload = callback;\n",
       "  s.onerror = function(){console.warn(\"failed to load library \" + url);};\n",
       "  document.getElementsByTagName(\"head\")[0].appendChild(s);\n",
       "}\n",
       "\n",
       "if(typeof(LDAvis) !== \"undefined\"){\n",
       "   // already loaded: just create the visualization\n",
       "   !function(LDAvis){\n",
       "       new LDAvis(\"#\" + \"ldavis_el17331406151348511442015882862\", ldavis_el17331406151348511442015882862_data);\n",
       "   }(LDAvis);\n",
       "}else if(typeof define === \"function\" && define.amd){\n",
       "   // require.js is available: use it to load d3/LDAvis\n",
       "   require.config({paths: {d3: \"https://d3js.org/d3.v5\"}});\n",
       "   require([\"d3\"], function(d3){\n",
       "      window.d3 = d3;\n",
       "      LDAvis_load_lib(\"https://cdn.jsdelivr.net/gh/bmabey/pyLDAvis@3.2.2/pyLDAvis/js/ldavis.v3.0.0.js\", function(){\n",
       "        new LDAvis(\"#\" + \"ldavis_el17331406151348511442015882862\", ldavis_el17331406151348511442015882862_data);\n",
       "      });\n",
       "    });\n",
       "}else{\n",
       "    // require.js not available: dynamically load d3 & LDAvis\n",
       "    LDAvis_load_lib(\"https://d3js.org/d3.v5.js\", function(){\n",
       "         LDAvis_load_lib(\"https://cdn.jsdelivr.net/gh/bmabey/pyLDAvis@3.2.2/pyLDAvis/js/ldavis.v3.0.0.js\", function(){\n",
       "                 new LDAvis(\"#\" + \"ldavis_el17331406151348511442015882862\", ldavis_el17331406151348511442015882862_data);\n",
       "            })\n",
       "         });\n",
       "}\n",
       "</script>"
      ],
      "text/plain": [
       "<IPython.core.display.HTML object>"
      ]
     },
     "execution_count": 50,
     "metadata": {},
     "output_type": "execute_result"
    }
   ],
   "source": [
    "%matplotlib inline\n",
    "import pyLDAvis\n",
    "import pyLDAvis.gensim\n",
    "vis = pyLDAvis.gensim.prepare(topic_model=lda_model, corpus=bow_corpus, dictionary=dictionary)\n",
    "pyLDAvis.enable_notebook()\n",
    "pyLDAvis.display(vis)"
   ]
  },
  {
   "cell_type": "code",
   "execution_count": 43,
   "id": "raising-doctor",
   "metadata": {},
   "outputs": [
    {
     "name": "stderr",
     "output_type": "stream",
     "text": [
      "/Users/Xingkang/opt/anaconda3/lib/python3.7/site-packages/ipykernel/ipkernel.py:287: DeprecationWarning: `should_run_async` will not call `transform_cell` automatically in the future. Please pass the result to `transformed_cell` argument and any exception that happen during thetransform in `preprocessing_exc_tuple` in IPython 7.17 and above.\n",
      "  and should_run_async(code)\n"
     ]
    },
    {
     "data": {
      "text/html": [
       "<div>\n",
       "<style scoped>\n",
       "    .dataframe tbody tr th:only-of-type {\n",
       "        vertical-align: middle;\n",
       "    }\n",
       "\n",
       "    .dataframe tbody tr th {\n",
       "        vertical-align: top;\n",
       "    }\n",
       "\n",
       "    .dataframe thead th {\n",
       "        text-align: right;\n",
       "    }\n",
       "</style>\n",
       "<table border=\"1\" class=\"dataframe\">\n",
       "  <thead>\n",
       "    <tr style=\"text-align: right;\">\n",
       "      <th></th>\n",
       "      <th>Tweets</th>\n",
       "      <th>Cleaned_Tweets</th>\n",
       "      <th>Cleaned_Tokens</th>\n",
       "      <th>Polarity</th>\n",
       "      <th>Sentiment</th>\n",
       "      <th>POS_Tokens</th>\n",
       "      <th>Lemmatized_Tokens</th>\n",
       "    </tr>\n",
       "  </thead>\n",
       "  <tbody>\n",
       "    <tr>\n",
       "      <th>3</th>\n",
       "      <td>: You just stepped all over your entire show o...</td>\n",
       "      <td>stepped entire show way door vaccine far scari...</td>\n",
       "      <td>[stepped, entire, show, way, door, vaccine, fa...</td>\n",
       "      <td>0.050000</td>\n",
       "      <td>Positive</td>\n",
       "      <td>[(stepped, VBD), (entire, JJ), (show, NN), (wa...</td>\n",
       "      <td>[step, entire, show, way, door, vaccine, far, ...</td>\n",
       "    </tr>\n",
       "    <tr>\n",
       "      <th>6</th>\n",
       "      <td>: Update: Weve secured million doses of AstraZ...</td>\n",
       "      <td>update weve secured million doses astrazenecas...</td>\n",
       "      <td>[update, weve, secured, million, doses, astraz...</td>\n",
       "      <td>0.500000</td>\n",
       "      <td>Positive</td>\n",
       "      <td>[(update, JJ), (weve, NN), (secured, VBN), (mi...</td>\n",
       "      <td>[update, weve, secure, million, dos, astrazene...</td>\n",
       "    </tr>\n",
       "    <tr>\n",
       "      <th>10</th>\n",
       "      <td>: Ivory Coast has become the second country in...</td>\n",
       "      <td>ivory coast become second country world receiv...</td>\n",
       "      <td>[ivory, coast, become, second, country, world,...</td>\n",
       "      <td>0.000000</td>\n",
       "      <td>Neutral</td>\n",
       "      <td>[(ivory, NN), (coast, NN), (become, JJ), (seco...</td>\n",
       "      <td>[ivory, coast, become, second, country, world,...</td>\n",
       "    </tr>\n",
       "    <tr>\n",
       "      <th>17</th>\n",
       "      <td>: Dr. will give us insight for the upcoming Ch...</td>\n",
       "      <td>dr give us insight upcoming chancellors speake...</td>\n",
       "      <td>[dr, give, us, insight, upcoming, chancellors,...</td>\n",
       "      <td>0.000000</td>\n",
       "      <td>Neutral</td>\n",
       "      <td>[(dr, NN), (give, VBP), (us, PRP), (insight, J...</td>\n",
       "      <td>[dr, give, us, insight, upcoming, chancellor, ...</td>\n",
       "    </tr>\n",
       "    <tr>\n",
       "      <th>37</th>\n",
       "      <td>: Weve reached some major COVID-19 vaccine mil...</td>\n",
       "      <td>weve reached major covid19 vaccine milestones ...</td>\n",
       "      <td>[weve, reached, major, covid19, vaccine, miles...</td>\n",
       "      <td>0.270833</td>\n",
       "      <td>Positive</td>\n",
       "      <td>[(weve, RB), (reached, VBN), (major, JJ), (cov...</td>\n",
       "      <td>[weve, reach, major, covid19, vaccine, milesto...</td>\n",
       "    </tr>\n",
       "    <tr>\n",
       "      <th>...</th>\n",
       "      <td>...</td>\n",
       "      <td>...</td>\n",
       "      <td>...</td>\n",
       "      <td>...</td>\n",
       "      <td>...</td>\n",
       "      <td>...</td>\n",
       "      <td>...</td>\n",
       "    </tr>\n",
       "    <tr>\n",
       "      <th>11939</th>\n",
       "      <td>: Black woman created a proven vaccine trackin...</td>\n",
       "      <td>black woman created proven vaccine tracking so...</td>\n",
       "      <td>[black, woman, created, proven, vaccine, track...</td>\n",
       "      <td>-0.166667</td>\n",
       "      <td>Negative</td>\n",
       "      <td>[(black, JJ), (woman, NN), (created, VBD), (pr...</td>\n",
       "      <td>[black, woman, create, proven, vaccine, track,...</td>\n",
       "    </tr>\n",
       "    <tr>\n",
       "      <th>11941</th>\n",
       "      <td>Health Canada has approved the Oxford-AstraZen...</td>\n",
       "      <td>health canada approved oxfordastrazeneca covid...</td>\n",
       "      <td>[health, canada, approved, oxfordastrazeneca, ...</td>\n",
       "      <td>0.050000</td>\n",
       "      <td>Positive</td>\n",
       "      <td>[(health, NN), (canada, NN), (approved, VBD), ...</td>\n",
       "      <td>[health, canada, approve, oxfordastrazeneca, c...</td>\n",
       "    </tr>\n",
       "    <tr>\n",
       "      <th>11951</th>\n",
       "      <td>: In this piece Im quoted about the California...</td>\n",
       "      <td>piece im quoted california variant suspect vac...</td>\n",
       "      <td>[piece, im, quoted, california, variant, suspe...</td>\n",
       "      <td>0.600000</td>\n",
       "      <td>Positive</td>\n",
       "      <td>[(piece, NN), (im, NN), (quoted, VBN), (califo...</td>\n",
       "      <td>[piece, im, quote, california, variant, suspec...</td>\n",
       "    </tr>\n",
       "    <tr>\n",
       "      <th>11968</th>\n",
       "      <td>: BREAKINGVaccine advisers to FDA voted unanim...</td>\n",
       "      <td>breakingvaccine advisers fda voted unanimously...</td>\n",
       "      <td>[breakingvaccine, advisers, fda, voted, unanim...</td>\n",
       "      <td>0.000000</td>\n",
       "      <td>Neutral</td>\n",
       "      <td>[(breakingvaccine, NN), (advisers, NNS), (fda,...</td>\n",
       "      <td>[breakingvaccine, adviser, fda, vote, unanimou...</td>\n",
       "    </tr>\n",
       "    <tr>\n",
       "      <th>11980</th>\n",
       "      <td>Switzerland REJECTS AstraZeneca coronavirus va...</td>\n",
       "      <td>switzerland rejects astrazeneca coronavirus va...</td>\n",
       "      <td>[switzerland, rejects, astrazeneca, coronaviru...</td>\n",
       "      <td>0.000000</td>\n",
       "      <td>Neutral</td>\n",
       "      <td>[(switzerland, NN), (rejects, NNS), (astrazene...</td>\n",
       "      <td>[switzerland, reject, astrazeneca, coronavirus...</td>\n",
       "    </tr>\n",
       "  </tbody>\n",
       "</table>\n",
       "<p>1697 rows × 7 columns</p>\n",
       "</div>"
      ],
      "text/plain": [
       "                                                  Tweets  \\\n",
       "3      : You just stepped all over your entire show o...   \n",
       "6      : Update: Weve secured million doses of AstraZ...   \n",
       "10     : Ivory Coast has become the second country in...   \n",
       "17     : Dr. will give us insight for the upcoming Ch...   \n",
       "37     : Weve reached some major COVID-19 vaccine mil...   \n",
       "...                                                  ...   \n",
       "11939  : Black woman created a proven vaccine trackin...   \n",
       "11941  Health Canada has approved the Oxford-AstraZen...   \n",
       "11951  : In this piece Im quoted about the California...   \n",
       "11968  : BREAKINGVaccine advisers to FDA voted unanim...   \n",
       "11980  Switzerland REJECTS AstraZeneca coronavirus va...   \n",
       "\n",
       "                                          Cleaned_Tweets  \\\n",
       "3      stepped entire show way door vaccine far scari...   \n",
       "6      update weve secured million doses astrazenecas...   \n",
       "10     ivory coast become second country world receiv...   \n",
       "17     dr give us insight upcoming chancellors speake...   \n",
       "37     weve reached major covid19 vaccine milestones ...   \n",
       "...                                                  ...   \n",
       "11939  black woman created proven vaccine tracking so...   \n",
       "11941  health canada approved oxfordastrazeneca covid...   \n",
       "11951  piece im quoted california variant suspect vac...   \n",
       "11968  breakingvaccine advisers fda voted unanimously...   \n",
       "11980  switzerland rejects astrazeneca coronavirus va...   \n",
       "\n",
       "                                          Cleaned_Tokens  Polarity Sentiment  \\\n",
       "3      [stepped, entire, show, way, door, vaccine, fa...  0.050000  Positive   \n",
       "6      [update, weve, secured, million, doses, astraz...  0.500000  Positive   \n",
       "10     [ivory, coast, become, second, country, world,...  0.000000   Neutral   \n",
       "17     [dr, give, us, insight, upcoming, chancellors,...  0.000000   Neutral   \n",
       "37     [weve, reached, major, covid19, vaccine, miles...  0.270833  Positive   \n",
       "...                                                  ...       ...       ...   \n",
       "11939  [black, woman, created, proven, vaccine, track... -0.166667  Negative   \n",
       "11941  [health, canada, approved, oxfordastrazeneca, ...  0.050000  Positive   \n",
       "11951  [piece, im, quoted, california, variant, suspe...  0.600000  Positive   \n",
       "11968  [breakingvaccine, advisers, fda, voted, unanim...  0.000000   Neutral   \n",
       "11980  [switzerland, rejects, astrazeneca, coronaviru...  0.000000   Neutral   \n",
       "\n",
       "                                              POS_Tokens  \\\n",
       "3      [(stepped, VBD), (entire, JJ), (show, NN), (wa...   \n",
       "6      [(update, JJ), (weve, NN), (secured, VBN), (mi...   \n",
       "10     [(ivory, NN), (coast, NN), (become, JJ), (seco...   \n",
       "17     [(dr, NN), (give, VBP), (us, PRP), (insight, J...   \n",
       "37     [(weve, RB), (reached, VBN), (major, JJ), (cov...   \n",
       "...                                                  ...   \n",
       "11939  [(black, JJ), (woman, NN), (created, VBD), (pr...   \n",
       "11941  [(health, NN), (canada, NN), (approved, VBD), ...   \n",
       "11951  [(piece, NN), (im, NN), (quoted, VBN), (califo...   \n",
       "11968  [(breakingvaccine, NN), (advisers, NNS), (fda,...   \n",
       "11980  [(switzerland, NN), (rejects, NNS), (astrazene...   \n",
       "\n",
       "                                       Lemmatized_Tokens  \n",
       "3      [step, entire, show, way, door, vaccine, far, ...  \n",
       "6      [update, weve, secure, million, dos, astrazene...  \n",
       "10     [ivory, coast, become, second, country, world,...  \n",
       "17     [dr, give, us, insight, upcoming, chancellor, ...  \n",
       "37     [weve, reach, major, covid19, vaccine, milesto...  \n",
       "...                                                  ...  \n",
       "11939  [black, woman, create, proven, vaccine, track,...  \n",
       "11941  [health, canada, approve, oxfordastrazeneca, c...  \n",
       "11951  [piece, im, quote, california, variant, suspec...  \n",
       "11968  [breakingvaccine, adviser, fda, vote, unanimou...  \n",
       "11980  [switzerland, reject, astrazeneca, coronavirus...  \n",
       "\n",
       "[1697 rows x 7 columns]"
      ]
     },
     "execution_count": 43,
     "metadata": {},
     "output_type": "execute_result"
    }
   ],
   "source": [
    "tweet[tweet['Cleaned_Tweets'].str.contains('vaccine')]"
   ]
  }
 ],
 "metadata": {
  "kernelspec": {
   "display_name": "Python 3",
   "language": "python",
   "name": "python3"
  },
  "language_info": {
   "codemirror_mode": {
    "name": "ipython",
    "version": 3
   },
   "file_extension": ".py",
   "mimetype": "text/x-python",
   "name": "python",
   "nbconvert_exporter": "python",
   "pygments_lexer": "ipython3",
   "version": "3.7.0"
  }
 },
 "nbformat": 4,
 "nbformat_minor": 5
}
