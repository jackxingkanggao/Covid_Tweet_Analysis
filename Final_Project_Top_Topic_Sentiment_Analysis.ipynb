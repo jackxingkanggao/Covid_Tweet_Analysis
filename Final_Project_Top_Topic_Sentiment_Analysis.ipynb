{
  "nbformat": 4,
  "nbformat_minor": 0,
  "metadata": {
    "colab": {
      "name": "Final Project - Top Topic Sentiment Analysis.ipynb",
      "provenance": [],
      "toc_visible": true,
      "authorship_tag": "ABX9TyMiTIdDo9YhxU+46wfp6ulT"
    },
    "kernelspec": {
      "display_name": "Python 3",
      "name": "python3"
    }
  },
  "cells": [
    {
      "cell_type": "markdown",
      "metadata": {
        "id": "_VXZ1X99QJCe"
      },
      "source": [
        "# Section 1: Preparation"
      ]
    },
    {
      "cell_type": "markdown",
      "metadata": {
        "id": "UQaXwkWwRzyc"
      },
      "source": [
        "**Step 1: Import Data bold text**"
      ]
    },
    {
      "cell_type": "code",
      "metadata": {
        "colab": {
          "resources": {
            "http://localhost:8080/nbextensions/google.colab/files.js": {
              "data": "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",
              "ok": true,
              "headers": [
                [
                  "content-type",
                  "application/javascript"
                ]
              ],
              "status": 200,
              "status_text": ""
            }
          },
          "base_uri": "https://localhost:8080/",
          "height": 72
        },
        "id": "GwjM8kCUPfXa",
        "outputId": "9cc302b7-4cee-402b-ba66-c23fe69663ff"
      },
      "source": [
        "from google.colab import files\n",
        "uploaded = files.upload()"
      ],
      "execution_count": null,
      "outputs": [
        {
          "output_type": "display_data",
          "data": {
            "text/html": [
              "\n",
              "     <input type=\"file\" id=\"files-d031f4b0-9e31-4ac6-a943-62a13d5cd78b\" name=\"files[]\" multiple disabled\n",
              "        style=\"border:none\" />\n",
              "     <output id=\"result-d031f4b0-9e31-4ac6-a943-62a13d5cd78b\">\n",
              "      Upload widget is only available when the cell has been executed in the\n",
              "      current browser session. Please rerun this cell to enable.\n",
              "      </output>\n",
              "      <script src=\"/nbextensions/google.colab/files.js\"></script> "
            ],
            "text/plain": [
              "<IPython.core.display.HTML object>"
            ]
          },
          "metadata": {
            "tags": []
          }
        },
        {
          "output_type": "stream",
          "text": [
            "Saving Master_Covid_Data.csv to Master_Covid_Data.csv\n"
          ],
          "name": "stdout"
        }
      ]
    },
    {
      "cell_type": "code",
      "metadata": {
        "id": "xuLym_SLRn_a"
      },
      "source": [
        "import pandas as pd"
      ],
      "execution_count": null,
      "outputs": []
    },
    {
      "cell_type": "code",
      "metadata": {
        "id": "LkpC7MomRoJB"
      },
      "source": [
        "tweet = pd.read_csv('Master_Covid_Data.csv')"
      ],
      "execution_count": null,
      "outputs": []
    },
    {
      "cell_type": "code",
      "metadata": {
        "id": "MDo7lYWFWX1t"
      },
      "source": [
        "tweet = tweet.iloc[:,1:]"
      ],
      "execution_count": null,
      "outputs": []
    },
    {
      "cell_type": "code",
      "metadata": {
        "colab": {
          "base_uri": "https://localhost:8080/",
          "height": 529
        },
        "id": "k8jOttGNRoLH",
        "outputId": "7c9fda6f-7c9e-48af-963a-1a42179a405a"
      },
      "source": [
        "tweet.head(10)"
      ],
      "execution_count": null,
      "outputs": [
        {
          "output_type": "execute_result",
          "data": {
            "text/html": [
              "<div>\n",
              "<style scoped>\n",
              "    .dataframe tbody tr th:only-of-type {\n",
              "        vertical-align: middle;\n",
              "    }\n",
              "\n",
              "    .dataframe tbody tr th {\n",
              "        vertical-align: top;\n",
              "    }\n",
              "\n",
              "    .dataframe thead th {\n",
              "        text-align: right;\n",
              "    }\n",
              "</style>\n",
              "<table border=\"1\" class=\"dataframe\">\n",
              "  <thead>\n",
              "    <tr style=\"text-align: right;\">\n",
              "      <th></th>\n",
              "      <th>Tweets</th>\n",
              "      <th>Cleaned_Tweets</th>\n",
              "      <th>Cleaned_Tokens</th>\n",
              "      <th>Polarity</th>\n",
              "      <th>Sentiment</th>\n",
              "      <th>POS_Tokens</th>\n",
              "      <th>Lemmatized_Tokens</th>\n",
              "    </tr>\n",
              "  </thead>\n",
              "  <tbody>\n",
              "    <tr>\n",
              "      <th>0</th>\n",
              "      <td>: The number of people in Virginia who have be...</td>\n",
              "      <td>number people virginia fully vaccinated surpas...</td>\n",
              "      <td>['number', 'people', 'virginia', 'fully', 'vac...</td>\n",
              "      <td>0.000000</td>\n",
              "      <td>Neutral</td>\n",
              "      <td>[('number', 'NN'), ('people', 'NNS'), ('virgin...</td>\n",
              "      <td>['number', 'people', 'virginia', 'fully', 'vac...</td>\n",
              "    </tr>\n",
              "    <tr>\n",
              "      <th>1</th>\n",
              "      <td>WE DO NOT HAVE TO LIVE WITH COVID-19All of the...</td>\n",
              "      <td>live covid19all deaths next months preventable...</td>\n",
              "      <td>['live', 'covid19all', 'deaths', 'next', 'mont...</td>\n",
              "      <td>0.068182</td>\n",
              "      <td>Positive</td>\n",
              "      <td>[('live', 'JJ'), ('covid19all', 'NN'), ('death...</td>\n",
              "      <td>['live', 'covid19all', 'death', 'next', 'month...</td>\n",
              "    </tr>\n",
              "    <tr>\n",
              "      <th>2</th>\n",
              "      <td>The point is that more than % of this bill sho...</td>\n",
              "      <td>point bill go covid going noncovid garbage rep...</td>\n",
              "      <td>['point', 'bill', 'go', 'covid', 'going', 'non...</td>\n",
              "      <td>0.000000</td>\n",
              "      <td>Neutral</td>\n",
              "      <td>[('point', 'NN'), ('bill', 'NN'), ('go', 'VB')...</td>\n",
              "      <td>['point', 'bill', 'go', 'covid', 'go', 'noncov...</td>\n",
              "    </tr>\n",
              "    <tr>\n",
              "      <th>3</th>\n",
              "      <td>: You just stepped all over your entire show o...</td>\n",
              "      <td>stepped entire show way door vaccine far scari...</td>\n",
              "      <td>['stepped', 'entire', 'show', 'way', 'door', '...</td>\n",
              "      <td>0.050000</td>\n",
              "      <td>Positive</td>\n",
              "      <td>[('stepped', 'VBD'), ('entire', 'JJ'), ('show'...</td>\n",
              "      <td>['step', 'entire', 'show', 'way', 'door', 'vac...</td>\n",
              "    </tr>\n",
              "    <tr>\n",
              "      <th>4</th>\n",
              "      <td>: People who work full time should be able to ...</td>\n",
              "      <td>people work full time able make living wage do...</td>\n",
              "      <td>['people', 'work', 'full', 'time', 'able', 'ma...</td>\n",
              "      <td>0.118750</td>\n",
              "      <td>Positive</td>\n",
              "      <td>[('people', 'NNS'), ('work', 'VBP'), ('full', ...</td>\n",
              "      <td>['people', 'work', 'full', 'time', 'able', 'ma...</td>\n",
              "    </tr>\n",
              "    <tr>\n",
              "      <th>5</th>\n",
              "      <td>: RT if you agree Democrats should immediately...</td>\n",
              "      <td>rt agree democrats immediately remove everythi...</td>\n",
              "      <td>['rt', 'agree', 'democrats', 'immediately', 'r...</td>\n",
              "      <td>0.000000</td>\n",
              "      <td>Neutral</td>\n",
              "      <td>[('rt', 'NN'), ('agree', 'JJ'), ('democrats', ...</td>\n",
              "      <td>['rt', 'agree', 'democrat', 'immediately', 're...</td>\n",
              "    </tr>\n",
              "    <tr>\n",
              "      <th>6</th>\n",
              "      <td>: Update: Weve secured million doses of AstraZ...</td>\n",
              "      <td>update weve secured million doses astrazenecas...</td>\n",
              "      <td>['update', 'weve', 'secured', 'million', 'dose...</td>\n",
              "      <td>0.500000</td>\n",
              "      <td>Positive</td>\n",
              "      <td>[('update', 'JJ'), ('weve', 'NN'), ('secured',...</td>\n",
              "      <td>['update', 'weve', 'secure', 'million', 'dos',...</td>\n",
              "    </tr>\n",
              "    <tr>\n",
              "      <th>7</th>\n",
              "      <td>: [ENG TRANSLATION]tw // racisma german radio ...</td>\n",
              "      <td>eng translationtw racisma german radio host ta...</td>\n",
              "      <td>['eng', 'translationtw', 'racisma', 'german', ...</td>\n",
              "      <td>-0.350000</td>\n",
              "      <td>Negative</td>\n",
              "      <td>[('eng', 'NN'), ('translationtw', 'NN'), ('rac...</td>\n",
              "      <td>['eng', 'translationtw', 'racisma', 'german', ...</td>\n",
              "    </tr>\n",
              "    <tr>\n",
              "      <th>8</th>\n",
              "      <td>: A German radio presenter equating the South ...</td>\n",
              "      <td>german radio presenter equating south korean b...</td>\n",
              "      <td>['german', 'radio', 'presenter', 'equating', '...</td>\n",
              "      <td>-0.100000</td>\n",
              "      <td>Negative</td>\n",
              "      <td>[('german', 'JJ'), ('radio', 'NN'), ('presente...</td>\n",
              "      <td>['german', 'radio', 'presenter', 'equate', 'so...</td>\n",
              "    </tr>\n",
              "    <tr>\n",
              "      <th>9</th>\n",
              "      <td>He should have a cute little COVID hat and mask.</td>\n",
              "      <td>cute little covid hat mask</td>\n",
              "      <td>['cute', 'little', 'covid', 'hat', 'mask']</td>\n",
              "      <td>0.156250</td>\n",
              "      <td>Positive</td>\n",
              "      <td>[('cute', 'JJ'), ('little', 'JJ'), ('covid', '...</td>\n",
              "      <td>['cute', 'little', 'covid', 'hat', 'mask']</td>\n",
              "    </tr>\n",
              "  </tbody>\n",
              "</table>\n",
              "</div>"
            ],
            "text/plain": [
              "                                              Tweets  ...                                  Lemmatized_Tokens\n",
              "0  : The number of people in Virginia who have be...  ...  ['number', 'people', 'virginia', 'fully', 'vac...\n",
              "1  WE DO NOT HAVE TO LIVE WITH COVID-19All of the...  ...  ['live', 'covid19all', 'death', 'next', 'month...\n",
              "2  The point is that more than % of this bill sho...  ...  ['point', 'bill', 'go', 'covid', 'go', 'noncov...\n",
              "3  : You just stepped all over your entire show o...  ...  ['step', 'entire', 'show', 'way', 'door', 'vac...\n",
              "4  : People who work full time should be able to ...  ...  ['people', 'work', 'full', 'time', 'able', 'ma...\n",
              "5  : RT if you agree Democrats should immediately...  ...  ['rt', 'agree', 'democrat', 'immediately', 're...\n",
              "6  : Update: Weve secured million doses of AstraZ...  ...  ['update', 'weve', 'secure', 'million', 'dos',...\n",
              "7  : [ENG TRANSLATION]tw // racisma german radio ...  ...  ['eng', 'translationtw', 'racisma', 'german', ...\n",
              "8  : A German radio presenter equating the South ...  ...  ['german', 'radio', 'presenter', 'equate', 'so...\n",
              "9   He should have a cute little COVID hat and mask.  ...         ['cute', 'little', 'covid', 'hat', 'mask']\n",
              "\n",
              "[10 rows x 7 columns]"
            ]
          },
          "metadata": {
            "tags": []
          },
          "execution_count": 42
        }
      ]
    },
    {
      "cell_type": "markdown",
      "metadata": {
        "id": "x9z4hEeER-vR"
      },
      "source": [
        "**Step 2: Import JohnSnow Lab**"
      ]
    },
    {
      "cell_type": "code",
      "metadata": {
        "colab": {
          "base_uri": "https://localhost:8080/"
        },
        "id": "5hl2GDpwSbRR",
        "outputId": "76fabf7f-96ca-4875-dcbc-42db79f8374e"
      },
      "source": [
        "# Install java\n",
        "!apt-get update -qq\n",
        "!apt-get install -y openjdk-8-jdk-headless -qq > /dev/null\n",
        "!java -version\n",
        "\n",
        "# Install pyspark\n",
        "!pip install --ignore-installed -q pyspark==2.4.4\n",
        "\n",
        "# Install Sparknlp\n",
        "!pip install --ignore-installed spark-nlp"
      ],
      "execution_count": null,
      "outputs": [
        {
          "output_type": "stream",
          "text": [
            "openjdk version \"1.8.0_282\"\n",
            "OpenJDK Runtime Environment (build 1.8.0_282-8u282-b08-0ubuntu1~18.04-b08)\n",
            "OpenJDK 64-Bit Server VM (build 25.282-b08, mixed mode)\n",
            "\u001b[K     |████████████████████████████████| 215.7MB 73kB/s \n",
            "\u001b[K     |████████████████████████████████| 204kB 22.4MB/s \n",
            "\u001b[?25h  Building wheel for pyspark (setup.py) ... \u001b[?25l\u001b[?25hdone\n",
            "Collecting spark-nlp\n",
            "\u001b[?25l  Downloading https://files.pythonhosted.org/packages/1b/d9/44fd438e15fa9a02c0e3b3ca9eaffc509fc626592f7a03ce05d8f156d448/spark_nlp-2.7.5-py2.py3-none-any.whl (139kB)\n",
            "\u001b[K     |████████████████████████████████| 143kB 8.6MB/s \n",
            "\u001b[?25hInstalling collected packages: spark-nlp\n",
            "Successfully installed spark-nlp-2.7.5\n"
          ],
          "name": "stdout"
        }
      ]
    },
    {
      "cell_type": "code",
      "metadata": {
        "id": "-Y1qtYUTRoPs"
      },
      "source": [
        "import numpy as np\n",
        "import os\n",
        "os.environ[\"JAVA_HOME\"] = \"/usr/lib/jvm/java-8-openjdk-amd64\"\n",
        "os.environ[\"PATH\"] = os.environ[\"JAVA_HOME\"] + \"/bin:\" + os.environ[\"PATH\"]\n",
        "import json\n",
        "from pyspark.ml import Pipeline\n",
        "from pyspark.sql import SparkSession\n",
        "import pyspark.sql.functions as F\n",
        "from sparknlp.annotator import *\n",
        "from sparknlp.base import *\n",
        "import sparknlp\n",
        "from sparknlp.pretrained import PretrainedPipeline"
      ],
      "execution_count": null,
      "outputs": []
    },
    {
      "cell_type": "code",
      "metadata": {
        "id": "8n9Naw-wRoR9"
      },
      "source": [
        "spark = sparknlp.start()"
      ],
      "execution_count": null,
      "outputs": []
    },
    {
      "cell_type": "code",
      "metadata": {
        "id": "Gdz80JHgSy1l"
      },
      "source": [
        "MODEL_NAME='classifierdl_use_emotion'"
      ],
      "execution_count": null,
      "outputs": []
    },
    {
      "cell_type": "code",
      "metadata": {
        "colab": {
          "base_uri": "https://localhost:8080/"
        },
        "id": "0RNC3pY_TETu",
        "outputId": "27d70e7f-0da1-4dcc-bdb9-6df2149de9aa"
      },
      "source": [
        "documentAssembler = DocumentAssembler()\\\n",
        "    .setInputCol(\"text\")\\\n",
        "    .setOutputCol(\"document\")\n",
        "    \n",
        "use = UniversalSentenceEncoder.pretrained(name=\"tfhub_use\", lang=\"en\")\\\n",
        " .setInputCols([\"document\"])\\\n",
        " .setOutputCol(\"sentence_embeddings\")\n",
        "\n",
        "\n",
        "sentimentdl = ClassifierDLModel.pretrained(name=MODEL_NAME)\\\n",
        "    .setInputCols([\"sentence_embeddings\"])\\\n",
        "    .setOutputCol(\"sentiment\")\n",
        "\n",
        "nlpPipeline = Pipeline(\n",
        "      stages = [\n",
        "          documentAssembler,\n",
        "          use,\n",
        "          sentimentdl\n",
        "      ])"
      ],
      "execution_count": null,
      "outputs": [
        {
          "output_type": "stream",
          "text": [
            "tfhub_use download started this may take some time.\n",
            "Approximate size to download 923.7 MB\n",
            "[OK!]\n",
            "classifierdl_use_emotion download started this may take some time.\n",
            "Approximate size to download 21.3 MB\n",
            "[OK!]\n"
          ],
          "name": "stdout"
        }
      ]
    },
    {
      "cell_type": "markdown",
      "metadata": {
        "id": "xsTJeiiYT2IG"
      },
      "source": [
        "# Section 2: Analyze Sentiment for Topic No.1: Vaccine"
      ]
    },
    {
      "cell_type": "code",
      "metadata": {
        "id": "rWjESUC9UBo4"
      },
      "source": [
        "vaccine_twt = list(tweet[tweet['Cleaned_Tweets'].str.contains('vaccine',na=False)]['Cleaned_Tweets'])"
      ],
      "execution_count": null,
      "outputs": []
    },
    {
      "cell_type": "code",
      "metadata": {
        "id": "WJMvUevrXP6S"
      },
      "source": [
        "empty_df = spark.createDataFrame([['']]).toDF(\"text\")\n",
        "\n",
        "pipelineModel = nlpPipeline.fit(empty_df)\n",
        "df = spark.createDataFrame(pd.DataFrame({\"text\":vaccine_twt}))\n",
        "result = pipelineModel.transform(df)"
      ],
      "execution_count": null,
      "outputs": []
    },
    {
      "cell_type": "code",
      "metadata": {
        "colab": {
          "base_uri": "https://localhost:8080/"
        },
        "id": "XEa1Hj2_XZjT",
        "outputId": "8751e7fc-6cbd-4105-acc8-1a2fdfb921d4"
      },
      "source": [
        "result.select(F.explode(F.arrays_zip('document.result', 'sentiment.result')).alias(\"cols\")) \\\n",
        ".select(F.expr(\"cols['0']\").alias(\"document\"),\n",
        "        F.expr(\"cols['1']\").alias(\"sentiment\")).show(truncate=False)"
      ],
      "execution_count": null,
      "outputs": [
        {
          "output_type": "stream",
          "text": [
            "+------------------------------------------------------------------------------------------------------------------------------------------------------------------------------------------+---------+\n",
            "|document                                                                                                                                                                                  |sentiment|\n",
            "+------------------------------------------------------------------------------------------------------------------------------------------------------------------------------------------+---------+\n",
            "|stepped entire show way door vaccine far scarier covid                                                                                                                                    |fear     |\n",
            "|update weve secured million doses astrazenecas covid19 vaccine top weve reached agre                                                                                                      |joy      |\n",
            "|ivory coast become second country world receive shipment covid19 vaccines global covax initiative                                                                                         |fear     |\n",
            "|dr give us insight upcoming chancellors speaker series covid19 vaccine viral                                                                                                              |joy      |\n",
            "|weve reached major covid19 vaccine milestones phase latest first doses administer                                                                                                         |joy      |\n",
            "|one day week unexpected visitors lined equityfocused south berkeley vaccine site hoping score extra dosebut theres thing city trying new ways avoid vaccine hunters reach people need dose|fear     |\n",
            "|nc ranked us vaccinations adults way go nci proud vaccine providers acro                                                                                                                  |joy      |\n",
            "|jampj covid19 vaccine wins backing fda panel                                                                                                                                              |fear     |\n",
            "|thank israel obligated provide vaccine palestinians need members congress                                                                                                                 |fear     |\n",
            "|driving sister get covid vaccine company used work called offer job move                                                                                                                  |joy      |\n",
            "|union health secretary amp chairman empowered group vaccine administration cowin chair meet covid vaccination ageappropriate groups states uts                                            |joy      |\n",
            "|proves prior partial immunity moderately effective vaccine masks hold respiratory virus bay im hopeful covid                                                                              |fear     |\n",
            "|doses covid vaccine may spoiled freezer door lock failure                                                                                                                                 |fear     |\n",
            "|seeing alarming ppl saying wait mrna vaccine instead jampj please dont                                                                                                                    |fear     |\n",
            "|new jampj singledose covid19 vaccine supported fda advisory committee fda meets finalize saturdaya third safe                                                                             |fear     |\n",
            "|amgmt pharmacys role addressing vaccine inequities country national data show distribution rat                                                                                            |fear     |\n",
            "|breaking fdas advisory committee approved johnson amp johnsons singledose covid19 vaccinethe decisio                                                                                      |surprise |\n",
            "|countries india provided covid vaccines faruaebrazilegyptnepalserbiaghanakuwait                                                                                                           |joy      |\n",
            "|democrats delivering relief crush virus get schools open safely get vaccines arms p                                                                                                       |fear     |\n",
            "|covid chief thanks india pm modi sharing vaccine nations                                                                                                                                  |joy      |\n",
            "+------------------------------------------------------------------------------------------------------------------------------------------------------------------------------------------+---------+\n",
            "only showing top 20 rows\n",
            "\n"
          ],
          "name": "stdout"
        }
      ]
    },
    {
      "cell_type": "code",
      "metadata": {
        "id": "O5UUQoUNaWm6"
      },
      "source": [
        "vaccine_sen = result.select(F.explode(F.arrays_zip('document.result', 'sentiment.result')).alias(\"cols\")) \\\n",
        ".select(F.expr(\"cols['0']\").alias(\"document\"),\n",
        "        F.expr(\"cols['1']\").alias(\"sentiment\"))"
      ],
      "execution_count": null,
      "outputs": []
    },
    {
      "cell_type": "code",
      "metadata": {
        "id": "wYgb5psbajpe"
      },
      "source": [
        "vaccine_sen = vaccine_sen.toPandas()"
      ],
      "execution_count": null,
      "outputs": []
    },
    {
      "cell_type": "code",
      "metadata": {
        "colab": {
          "base_uri": "https://localhost:8080/",
          "height": 285
        },
        "id": "w5Q0HmJSa65F",
        "outputId": "5cbca0f1-4d07-4210-fe6c-9bc6b76d0ba9"
      },
      "source": [
        "import seaborn as sns\n",
        "sns.set_theme(style=\"darkgrid\")\n",
        "ax = sns.countplot(x=\"sentiment\", data=vaccine_sen)"
      ],
      "execution_count": null,
      "outputs": [
        {
          "output_type": "display_data",
          "data": {
            "image/png": "[encoded data removed]",
            "text/plain": [
              "<Figure size 432x288 with 1 Axes>"
            ]
          },
          "metadata": {
            "tags": []
          }
        }
      ]
    },
    {
      "cell_type": "markdown",
      "metadata": {
        "id": "IYHoCICYUGma"
      },
      "source": [
        "# Section 3: Analyze Sentiment for Topic No.2: Relief"
      ]
    },
    {
      "cell_type": "code",
      "metadata": {
        "id": "HIrjPUP8VOpa"
      },
      "source": [
        "relief_twt = list(tweet[tweet['Cleaned_Tweets'].str.contains('relief',na=False)]['Cleaned_Tweets'])"
      ],
      "execution_count": null,
      "outputs": []
    },
    {
      "cell_type": "code",
      "metadata": {
        "id": "xbvxq852cxPS"
      },
      "source": [
        "empty_df = spark.createDataFrame([['']]).toDF(\"text\")\n",
        "\n",
        "nlpPipeline = Pipeline(\n",
        "      stages = [\n",
        "          documentAssembler,\n",
        "          use,\n",
        "          sentimentdl\n",
        "      ])\n",
        "\n",
        "pipelineModel = nlpPipeline.fit(empty_df)\n",
        "df = spark.createDataFrame(pd.DataFrame({\"text\":relief_twt}))\n",
        "result = pipelineModel.transform(df)"
      ],
      "execution_count": null,
      "outputs": []
    },
    {
      "cell_type": "code",
      "metadata": {
        "colab": {
          "base_uri": "https://localhost:8080/"
        },
        "id": "bhevncl8cxR7",
        "outputId": "d01be466-51d3-48ce-9862-2f3199110493"
      },
      "source": [
        "result.select(F.explode(F.arrays_zip('document.result', 'sentiment.result')).alias(\"cols\")) \\\n",
        ".select(F.expr(\"cols['0']\").alias(\"document\"),\n",
        "        F.expr(\"cols['1']\").alias(\"sentiment\")).show(truncate=False)"
      ],
      "execution_count": null,
      "outputs": [
        {
          "output_type": "stream",
          "text": [
            "+----------------------------------------------------------------------------------------------------------------------------------------------------------------------------------+---------+\n",
            "|document                                                                                                                                                                          |sentiment|\n",
            "+----------------------------------------------------------------------------------------------------------------------------------------------------------------------------------+---------+\n",
            "|rt agree democrats immediately remove everything related covid relief covid relief bill                                                                                           |fear     |\n",
            "|order preserve must keep 15 min wage covid relief bill otherwise likely dea                                                                                                       |surprise |\n",
            "|political cartoon day going piggy bank old scam pelosi using covid relief package help states ignored people put illegals americans waste nothing pandemic                        |fear     |\n",
            "|rt agree democrats immediately remove everything related covid relief covid relief bill                                                                                           |fear     |\n",
            "|every single thing democrats 19 trillion dollar blowout important covid relief speaker pelosi allow                                                                               |surprise |\n",
            "|rt agree democrats immediately remove everything related covid relief covid relief bill                                                                                           |fear     |\n",
            "|rt agree democrats immediately remove everything related covid relief covid relief bill                                                                                           |fear     |\n",
            "|rt agree democrats immediately remove everything related covid relief covid relief bill                                                                                           |fear     |\n",
            "|rt agree democrats immediately remove everything related covid relief covid relief bill                                                                                           |fear     |\n",
            "|covid19 relief communities color desperate way republican support                                                                                                                 |sadness  |\n",
            "|rt agree democrats immediately remove everything related covid relief covid relief bill                                                                                           |fear     |\n",
            "|house republicans voting proxy covid relief bill citing pandemic theyre speaking cpac                                                                                             |fear     |\n",
            "|every single thing democrats 19 trillion dollar blowout important covid relief speaker pelosi allow                                                                               |surprise |\n",
            "|oclock friday night house rules committee still hasnt sent covid19 relief bill floor                                                                                              |surprise |\n",
            "|parliamentarian elizabeth macdonough ruled including minimum wage hike included part pandemic relief plan line rules chamber progressives vowed continue fight necessary wage hike|fear     |\n",
            "|rt agree democrats immediately remove everything related covid relief covid relief bill                                                                                           |fear     |\n",
            "|leftists let put perspective cbc written provision covid relief bill                                                                                                              |fear     |\n",
            "|rt agree democrats immediately remove everything related covid relief covid relief bill                                                                                           |fear     |\n",
            "|debate yet begun house democrats 19 trillion covid relief measure expecting house p                                                                                               |surprise |\n",
            "|order preserve must keep 15 min wage covid relief bill otherwise likely dea                                                                                                       |surprise |\n",
            "+----------------------------------------------------------------------------------------------------------------------------------------------------------------------------------+---------+\n",
            "only showing top 20 rows\n",
            "\n"
          ],
          "name": "stdout"
        }
      ]
    },
    {
      "cell_type": "code",
      "metadata": {
        "id": "W0KkEI7UcxUR"
      },
      "source": [
        "relief_sen = result.select(F.explode(F.arrays_zip('document.result', 'sentiment.result')).alias(\"cols\")) \\\n",
        ".select(F.expr(\"cols['0']\").alias(\"document\"),\n",
        "        F.expr(\"cols['1']\").alias(\"sentiment\"))"
      ],
      "execution_count": null,
      "outputs": []
    },
    {
      "cell_type": "code",
      "metadata": {
        "id": "V_O1rJtfcxWr"
      },
      "source": [
        "relief_sen = relief_sen.toPandas()"
      ],
      "execution_count": null,
      "outputs": []
    },
    {
      "cell_type": "code",
      "metadata": {
        "colab": {
          "base_uri": "https://localhost:8080/",
          "height": 285
        },
        "id": "X-5oI0jhcxZG",
        "outputId": "0d1d2d2e-fe10-41b2-e783-bfa55ea584b5"
      },
      "source": [
        "ax = sns.countplot(x=\"sentiment\", data=relief_sen)"
      ],
      "execution_count": null,
      "outputs": [
        {
          "output_type": "display_data",
          "data": {
            "image/png": "[encoded data removed]",
            "text/plain": [
              "<Figure size 432x288 with 1 Axes>"
            ]
          },
          "metadata": {
            "tags": []
          }
        }
      ]
    },
    {
      "cell_type": "markdown",
      "metadata": {
        "id": "r9oqRiNvVPJn"
      },
      "source": [
        "# Section 4: Analyze Sentiment for Topic No.3: Jeremy Lin / Lin"
      ]
    },
    {
      "cell_type": "code",
      "metadata": {
        "id": "-fT0y50vVd38"
      },
      "source": [
        "Lin_twt = list(tweet[tweet['Cleaned_Tweets'].str.contains('lin',na=False) & tweet['Cleaned_Tweets'].str.contains('jeremy',na=False)]['Cleaned_Tweets'])"
      ],
      "execution_count": null,
      "outputs": []
    },
    {
      "cell_type": "code",
      "metadata": {
        "id": "TrN-cw3tdxPp"
      },
      "source": [
        "empty_df = spark.createDataFrame([['']]).toDF(\"text\")\n",
        "\n",
        "nlpPipeline = Pipeline(\n",
        "      stages = [\n",
        "          documentAssembler,\n",
        "          use,\n",
        "          sentimentdl\n",
        "      ])\n",
        "\n",
        "pipelineModel = nlpPipeline.fit(empty_df)\n",
        "df = spark.createDataFrame(pd.DataFrame({\"text\":Lin_twt}))\n",
        "result = pipelineModel.transform(df)"
      ],
      "execution_count": null,
      "outputs": []
    },
    {
      "cell_type": "code",
      "metadata": {
        "colab": {
          "base_uri": "https://localhost:8080/"
        },
        "id": "clIkC-1veRNP",
        "outputId": "2e8edf84-d7e2-49d7-9a0b-220dec03b223"
      },
      "source": [
        "result.select(F.explode(F.arrays_zip('document.result', 'sentiment.result')).alias(\"cols\")) \\\n",
        ".select(F.expr(\"cols['0']\").alias(\"document\"),\n",
        "        F.expr(\"cols['1']\").alias(\"sentiment\")).show(truncate=False)"
      ],
      "execution_count": null,
      "outputs": [
        {
          "output_type": "stream",
          "text": [
            "+---------------------------------------------------------------------------------------+---------+\n",
            "|document                                                                               |sentiment|\n",
            "+---------------------------------------------------------------------------------------+---------+\n",
            "|year nba veteran doesnt protect called coronavirus courtjeremy lin detailed racism tha |fear     |\n",
            "|year nba veteran doesnt protect called coronavirus courtjeremy lin detailed racism tha |fear     |\n",
            "|year nba veteran doesnt protect called coronavirus courtjeremy lin detailed racism tha |fear     |\n",
            "|year nba veteran doesnt protect called coronavirus courtjeremy lin detailed racism tha |fear     |\n",
            "|right f called jeremy lin coronavirus court                                            |sadness  |\n",
            "|nba player think called jeremy lin coronavirus basketball court bonus points sjw slogan|fear     |\n",
            "|year nba veteran doesnt protect called coronavirus courtjeremy lin detailed racism tha |fear     |\n",
            "|jeremy lin year nba veteran doesnt protect called coronavirus court                    |sadness  |\n",
            "|jeremy lin year nba veteran doesnt protect called coronavirus court                    |sadness  |\n",
            "|jeremy lin year nba veteran doesnt protect called coronavirus court                    |sadness  |\n",
            "|year nba veteran doesnt protect called coronavirus courtjeremy lin detailed racism tha |fear     |\n",
            "|jeremy lin year nba veteran doesnt protect called coronavirus court                    |sadness  |\n",
            "|jeremy lin year nba veteran doesnt protect called coronavirus court                    |sadness  |\n",
            "|nba player think called jeremy lin coronavirus basketball court bonus points sjw slogan|fear     |\n",
            "|year nba veteran doesnt protect called coronavirus courtjeremy lin detailed racism tha |fear     |\n",
            "|jeremy lin said called coronavirus court                                               |fear     |\n",
            "|steve kerr says would support investigation event jeremy lin saying called coronavirus |fear     |\n",
            "|jeremy lin says called coronavirus court                                               |fear     |\n",
            "|nba player think called jeremy lin coronavirus basketball court bonus points sjw slogan|fear     |\n",
            "|year nba veteran doesnt protect called coronavirus courtjeremy lin detailed racism tha |fear     |\n",
            "+---------------------------------------------------------------------------------------+---------+\n",
            "only showing top 20 rows\n",
            "\n"
          ],
          "name": "stdout"
        }
      ]
    },
    {
      "cell_type": "code",
      "metadata": {
        "id": "vYWD39u6eYK2"
      },
      "source": [
        "lin_sen = result.select(F.explode(F.arrays_zip('document.result', 'sentiment.result')).alias(\"cols\")) \\\n",
        ".select(F.expr(\"cols['0']\").alias(\"document\"),\n",
        "        F.expr(\"cols['1']\").alias(\"sentiment\"))"
      ],
      "execution_count": null,
      "outputs": []
    },
    {
      "cell_type": "code",
      "metadata": {
        "id": "sa311ePYehdf"
      },
      "source": [
        "lin_sen = lin_sen.toPandas()"
      ],
      "execution_count": null,
      "outputs": []
    },
    {
      "cell_type": "code",
      "metadata": {
        "colab": {
          "base_uri": "https://localhost:8080/",
          "height": 285
        },
        "id": "uw_ymDOsemFN",
        "outputId": "ea4ab8ac-807d-4c73-ea91-d430bef2937f"
      },
      "source": [
        "ax = sns.countplot(x=\"sentiment\", data=lin_sen)"
      ],
      "execution_count": null,
      "outputs": [
        {
          "output_type": "display_data",
          "data": {
            "image/png": "[encoded data removed]",
            "text/plain": [
              "<Figure size 432x288 with 1 Axes>"
            ]
          },
          "metadata": {
            "tags": []
          }
        }
      ]
    },
    {
      "cell_type": "code",
      "metadata": {
        "id": "0ZuSkNNUeq36"
      },
      "source": [
        ""
      ],
      "execution_count": null,
      "outputs": []
    }
  ]
}