{
 "cells": [
  {
   "cell_type": "markdown",
   "id": "stuck-structure",
   "metadata": {},
   "source": [
    "### Objective\n",
    "- to use NLP on tweets to find the top 3 trending topics related to Covid and corresponding sentiments and insights."
   ]
  },
  {
   "cell_type": "markdown",
   "id": "raising-verification",
   "metadata": {},
   "source": [
    "Task 1 \n",
    "- use your data engineering skills to download tweets data \n",
    "- apply for Twitter developer account https://developer.twitter.com/en/apply-for-access (Links to an external site.)\n",
    "\n",
    "Task 2 \n",
    "- familiarize with NLP at https://nlp.johnsnowlabs.com/ (Links to an external site.) \n",
    "- the license details to use NLP for healthcare is given below\n",
    "\n",
    "Deliverables:\n",
    "- EDA: analyze and plot your data\n",
    "- Topics: use NLP to find the top 3 trending topics related to Covid-19\n",
    "- Sentiments: use NLP to understand the sentiments of the top 3 topics\n",
    "- Insights: use NLP to discover insights/information on the top 3 topics\n",
    "\n",
    "Submissions:\n",
    "- your code\n",
    "- your PPT that will be presented in class"
   ]
  },
  {
   "cell_type": "code",
   "execution_count": 3,
   "id": "nearby-great",
   "metadata": {},
   "outputs": [
    {
     "name": "stdout",
     "output_type": "stream",
     "text": [
      "Collecting tweepy\n",
      "  Using cached tweepy-3.10.0-py2.py3-none-any.whl (30 kB)\n",
      "Requirement already satisfied: requests-oauthlib>=0.7.0 in /Users/Xingkang/opt/anaconda3/lib/python3.7/site-packages (from tweepy) (1.3.0)\n",
      "Requirement already satisfied: six>=1.10.0 in /Users/Xingkang/opt/anaconda3/lib/python3.7/site-packages (from tweepy) (1.15.0)\n",
      "Requirement already satisfied: requests[socks]>=2.11.1 in /Users/Xingkang/opt/anaconda3/lib/python3.7/site-packages (from tweepy) (2.25.1)\n",
      "Requirement already satisfied: oauthlib>=3.0.0 in /Users/Xingkang/opt/anaconda3/lib/python3.7/site-packages (from requests-oauthlib>=0.7.0->tweepy) (3.1.0)\n",
      "Requirement already satisfied: urllib3<1.27,>=1.21.1 in /Users/Xingkang/opt/anaconda3/lib/python3.7/site-packages (from requests[socks]>=2.11.1->tweepy) (1.26.3)\n",
      "Requirement already satisfied: certifi>=2017.4.17 in /Users/Xingkang/opt/anaconda3/lib/python3.7/site-packages (from requests[socks]>=2.11.1->tweepy) (2020.12.5)\n",
      "Requirement already satisfied: chardet<5,>=3.0.2 in /Users/Xingkang/opt/anaconda3/lib/python3.7/site-packages (from requests[socks]>=2.11.1->tweepy) (4.0.0)\n",
      "Requirement already satisfied: idna<3,>=2.5 in /Users/Xingkang/opt/anaconda3/lib/python3.7/site-packages (from requests[socks]>=2.11.1->tweepy) (2.10)\n",
      "Requirement already satisfied: PySocks!=1.5.7,>=1.5.6 in /Users/Xingkang/opt/anaconda3/lib/python3.7/site-packages (from requests[socks]>=2.11.1->tweepy) (1.7.1)\n",
      "Installing collected packages: tweepy\n",
      "Successfully installed tweepy-3.10.0\n"
     ]
    }
   ],
   "source": [
    "!pip install tweepy"
   ]
  },
  {
   "cell_type": "code",
   "execution_count": 4,
   "id": "congressional-american",
   "metadata": {},
   "outputs": [
    {
     "name": "stdout",
     "output_type": "stream",
     "text": [
      "Collecting textblob\n",
      "  Using cached textblob-0.15.3-py2.py3-none-any.whl (636 kB)\n",
      "Requirement already satisfied: nltk>=3.1 in /Users/Xingkang/opt/anaconda3/lib/python3.7/site-packages (from textblob) (3.5)\n",
      "Requirement already satisfied: tqdm in /Users/Xingkang/opt/anaconda3/lib/python3.7/site-packages (from nltk>=3.1->textblob) (4.56.0)\n",
      "Requirement already satisfied: regex in /Users/Xingkang/opt/anaconda3/lib/python3.7/site-packages (from nltk>=3.1->textblob) (2020.11.13)\n",
      "Requirement already satisfied: click in /Users/Xingkang/opt/anaconda3/lib/python3.7/site-packages (from nltk>=3.1->textblob) (7.1.2)\n",
      "Requirement already satisfied: joblib in /Users/Xingkang/opt/anaconda3/lib/python3.7/site-packages (from nltk>=3.1->textblob) (1.0.1)\n",
      "Installing collected packages: textblob\n",
      "Successfully installed textblob-0.15.3\n"
     ]
    }
   ],
   "source": [
    "!pip install -U textblob"
   ]
  },
  {
   "cell_type": "code",
   "execution_count": 5,
   "id": "composite-literacy",
   "metadata": {},
   "outputs": [
    {
     "name": "stdout",
     "output_type": "stream",
     "text": [
      "Collecting tweet-preprocessor\n",
      "  Using cached tweet_preprocessor-0.6.0-py3-none-any.whl (27 kB)\n",
      "Installing collected packages: tweet-preprocessor\n",
      "Successfully installed tweet-preprocessor-0.6.0\n"
     ]
    }
   ],
   "source": [
    "!pip install tweet-preprocessor"
   ]
  },
  {
   "cell_type": "code",
   "execution_count": 6,
   "id": "abstract-reward",
   "metadata": {
    "scrolled": false
   },
   "outputs": [
    {
     "name": "stdout",
     "output_type": "stream",
     "text": [
      "absl-py==0.11.0\r\n",
      "alabaster @ file:///home/ktietz/src/ci/alabaster_1611921544520/work\r\n",
      "anaconda-client==1.7.2\r\n",
      "anaconda-navigator==1.10.0\r\n",
      "anaconda-project @ file:///tmp/build/80754af9/anaconda-project_1610472525955/work\r\n",
      "appdirs==1.4.4\r\n",
      "applaunchservices==0.2.1\r\n",
      "appnope @ file:///opt/concourse/worker/volumes/live/4f734db2-9ca8-4d8b-5b29-6ca15b4b4772/volume/appnope_1606859466979/work\r\n",
      "appscript @ file:///opt/concourse/worker/volumes/live/27fecc2e-9c75-4367-685d-08900606dee2/volume/appscript_1611427007141/work\r\n",
      "apyori==1.1.2\r\n",
      "asn1crypto @ file:///tmp/build/80754af9/asn1crypto_1596577642040/work\r\n",
      "astroid @ file:///opt/concourse/worker/volumes/live/9de2becb-270f-43cf-6533-a7867d89298c/volume/astroid_1613500844589/work\r\n",
      "astropy==4.0.2\r\n",
      "astunparse==1.6.3\r\n",
      "async-generator @ file:///home/ktietz/src/ci/async_generator_1611927993394/work\r\n",
      "atomicwrites==1.4.0\r\n",
      "attrs @ file:///tmp/build/80754af9/attrs_1604765588209/work\r\n",
      "Automat @ file:///tmp/build/80754af9/automat_1600298431173/work\r\n",
      "autopep8 @ file:///tmp/build/80754af9/autopep8_1613246362269/work\r\n",
      "Babel @ file:///tmp/build/80754af9/babel_1607110387436/work\r\n",
      "backcall @ file:///home/ktietz/src/ci/backcall_1611930011877/work\r\n",
      "backports.functools-lru-cache @ file:///tmp/build/80754af9/backports.functools_lru_cache_1605305165209/work\r\n",
      "backports.shutil-get-terminal-size @ file:///tmp/build/80754af9/backports.shutil_get_terminal_size_1608222128777/work\r\n",
      "backports.tempfile @ file:///home/linux1/recipes/ci/backports.tempfile_1610991236607/work\r\n",
      "backports.weakref==1.0.post1\r\n",
      "bcrypt @ file:///opt/concourse/worker/volumes/live/25966884-1a49-4448-62e7-44563eba29d2/volume/bcrypt_1597936171818/work\r\n",
      "beautifulsoup4 @ file:///home/linux1/recipes/ci/beautifulsoup4_1610988766420/work\r\n",
      "bitarray @ file:///opt/concourse/worker/volumes/live/489c9650-2944-4132-457f-21b0cf86f3a5/volume/bitarray_1611254394777/work\r\n",
      "bkcharts==0.2\r\n",
      "black==19.10b0\r\n",
      "blaze==0.11.3\r\n",
      "bleach @ file:///tmp/build/80754af9/bleach_1612211392645/work\r\n",
      "bokeh @ file:///opt/concourse/worker/volumes/live/17495d14-5b57-4c12-6d6b-201edb177b9e/volume/bokeh_1603297848703/work\r\n",
      "boto==2.49.0\r\n",
      "Bottleneck==1.3.2\r\n",
      "brotlipy==0.7.0\r\n",
      "cachetools==4.2.1\r\n",
      "certifi==2020.12.5\r\n",
      "cffi==1.14.0\r\n",
      "chardet @ file:///opt/concourse/worker/volumes/live/9efbf151-b45b-463d-6340-a5c399bf00b7/volume/chardet_1607706825988/work\r\n",
      "click @ file:///home/linux1/recipes/ci/click_1610990599742/work\r\n",
      "cloudpickle @ file:///tmp/build/80754af9/cloudpickle_1598884132938/work\r\n",
      "clyent==1.2.2\r\n",
      "colorama @ file:///tmp/build/80754af9/colorama_1607707115595/work\r\n",
      "conda==4.9.2\r\n",
      "conda-build==3.16.3\r\n",
      "conda-package-handling @ file:///opt/concourse/worker/volumes/live/41a2ba95-d84c-4c06-4d6e-5665866bc5b4/volume/conda-package-handling_1603018173200/work\r\n",
      "conda-verify==3.4.2\r\n",
      "constantly==15.1.0\r\n",
      "contextlib2==0.6.0.post1\r\n",
      "cryptography==2.3.1\r\n",
      "cycler==0.10.0\r\n",
      "Cython @ file:///opt/concourse/worker/volumes/live/55fb26d1-72e7-437a-7d3f-9637af0c7012/volume/cython_1614014833740/work\r\n",
      "cytoolz==0.11.0\r\n",
      "dask @ file:///tmp/build/80754af9/dask-core_1613253194046/work\r\n",
      "datashape==0.5.4\r\n",
      "decorator @ file:///home/ktietz/src/ci/decorator_1611930055503/work\r\n",
      "defusedxml @ file:///home/ktietz/src/ci_mi/defusedxml_1612808095953/work\r\n",
      "diff-match-patch @ file:///tmp/build/80754af9/diff-match-patch_1594828741838/work\r\n",
      "distributed @ file:///opt/concourse/worker/volumes/live/b0f6b778-5573-4165-7d90-a4abe266925e/volume/distributed_1613253466029/work\r\n",
      "docutils==0.16\r\n",
      "entrypoints==0.3\r\n",
      "et-xmlfile==1.0.1\r\n",
      "fastcache==1.1.0\r\n",
      "filelock @ file:///home/linux1/recipes/ci/filelock_1610993975404/work\r\n",
      "flake8 @ file:///tmp/build/80754af9/flake8_1601911421857/work\r\n",
      "Flask @ file:///home/ktietz/src/ci/flask_1611932660458/work\r\n",
      "Flask-Cors @ file:///tmp/build/80754af9/flask-cors_1609957731919/work\r\n",
      "flatbuffers==1.12\r\n",
      "fsspec @ file:///tmp/build/80754af9/fsspec_1602684995936/work\r\n",
      "future==0.18.2\r\n",
      "gast==0.3.3\r\n",
      "gevent==1.4.0\r\n",
      "glob2 @ file:///home/linux1/recipes/ci/glob2_1610991677669/work\r\n",
      "gmpy2==2.0.8\r\n",
      "google-auth==1.27.0\r\n",
      "google-auth-oauthlib==0.4.2\r\n",
      "google-pasta==0.2.0\r\n",
      "greenlet @ file:///opt/concourse/worker/volumes/live/e96eb331-0f3d-4286-759a-ce903db4e49e/volume/greenlet_1611958360647/work\r\n",
      "grpcio==1.32.0\r\n",
      "h5py==2.10.0\r\n",
      "HeapDict==1.0.1\r\n",
      "html5lib @ file:///tmp/build/80754af9/html5lib_1593446221756/work\r\n",
      "hyperlink @ file:///tmp/build/80754af9/hyperlink_1610130746837/work\r\n",
      "hypothesis @ file:///tmp/build/80754af9/hypothesis_1614362618234/work\r\n",
      "idna @ file:///home/linux1/recipes/ci/idna_1610986105248/work\r\n",
      "imagecodecs @ file:///opt/concourse/worker/volumes/live/3cc3abec-1f54-40c7-4384-7d75221c9972/volume/imagecodecs_1611258197831/work\r\n",
      "imageio @ file:///tmp/build/80754af9/imageio_1594161405741/work\r\n",
      "imagesize @ file:///home/ktietz/src/ci/imagesize_1611921604382/work\r\n",
      "importlib-metadata @ file:///tmp/build/80754af9/importlib-metadata_1602276842396/work\r\n",
      "incremental==17.5.0\r\n",
      "iniconfig @ file:///home/linux1/recipes/ci/iniconfig_1610983019677/work\r\n",
      "intervaltree @ file:///tmp/build/80754af9/intervaltree_1598376443606/work\r\n",
      "ipykernel @ file:///opt/concourse/worker/volumes/live/73e8766c-12c3-4f76-62a6-3dea9a7da5b7/volume/ipykernel_1596206701501/work/dist/ipykernel-5.3.4-py3-none-any.whl\r\n",
      "ipython @ file:///opt/concourse/worker/volumes/live/afeae089-387b-45db-4409-1d705998b25b/volume/ipython_1612212920502/work\r\n",
      "ipython-genutils @ file:///tmp/build/80754af9/ipython_genutils_1606773439826/work\r\n",
      "ipywidgets @ file:///tmp/build/80754af9/ipywidgets_1610481889018/work\r\n",
      "isort @ file:///tmp/build/80754af9/isort_1612243941122/work\r\n",
      "itsdangerous @ file:///home/ktietz/src/ci/itsdangerous_1611932585308/work\r\n",
      "jdcal==1.4.1\r\n",
      "jedi @ file:///opt/concourse/worker/volumes/live/5006b7b5-a924-4788-6cfe-ae05d8be8830/volume/jedi_1606932947370/work\r\n",
      "Jinja2 @ file:///tmp/build/80754af9/jinja2_1612213139570/work\r\n",
      "joblib @ file:///tmp/build/80754af9/joblib_1613502643832/work\r\n",
      "json5==0.9.5\r\n",
      "jsonschema @ file:///tmp/build/80754af9/jsonschema_1602607155483/work\r\n",
      "jupyter==1.0.0\r\n",
      "jupyter-client @ file:///tmp/build/80754af9/jupyter_client_1601311786391/work\r\n",
      "jupyter-console @ file:///tmp/build/80754af9/jupyter_console_1598884538475/work\r\n",
      "jupyter-core @ file:///opt/concourse/worker/volumes/live/a699b83f-e941-4170-5136-bf87e3f37756/volume/jupyter_core_1612213304212/work\r\n",
      "jupyterlab==2.2.6\r\n",
      "jupyterlab-launcher @ file:///tmp/build/80754af9/jupyterlab_launcher_1601490670252/work\r\n",
      "jupyterlab-pygments @ file:///tmp/build/80754af9/jupyterlab_pygments_1601490720602/work\r\n",
      "jupyterlab-server @ file:///tmp/build/80754af9/jupyterlab_server_1594164409481/work\r\n",
      "jupyterlab-widgets @ file:///tmp/build/80754af9/jupyterlab_widgets_1609884341231/work\r\n",
      "Keras-Preprocessing==1.1.2\r\n",
      "keyring @ file:///opt/concourse/worker/volumes/live/1cc62506-7e1f-416c-6cdc-c1cc204745e8/volume/keyring_1614363267626/work\r\n",
      "kiwisolver @ file:///opt/concourse/worker/volumes/live/1e6d28e8-da14-4365-7344-567a05db7efc/volume/kiwisolver_1612282399491/work\r\n",
      "lazy-object-proxy @ file:///opt/concourse/worker/volumes/live/8b2c4a4f-2586-414d-42e6-4e01c717e2a9/volume/lazy-object-proxy_1606850093203/work\r\n",
      "libarchive-c @ file:///home/linux1/recipes/ci/python-libarchive-c_1610974153025/work\r\n",
      "llvmlite==0.34.0\r\n",
      "locket==0.2.1\r\n",
      "lxml @ file:///opt/concourse/worker/volumes/live/2f2e9d7c-80fe-4a43-633f-52750fdb2409/volume/lxml_1606516857523/work\r\n",
      "Markdown==3.3.4\r\n",
      "MarkupSafe==1.1.1\r\n",
      "matplotlib==3.1.2\r\n",
      "mccabe==0.6.1\r\n",
      "mistune==0.8.4\r\n",
      "mkl-fft==1.3.0\r\n",
      "mkl-random==1.1.1\r\n",
      "mkl-service==2.3.0\r\n",
      "mlxtend==0.18.0\r\n",
      "mock @ file:///tmp/build/80754af9/mock_1607622725907/work\r\n",
      "more-itertools @ file:///tmp/build/80754af9/more-itertools_1613676688952/work\r\n",
      "mpmath==1.1.0\r\n",
      "msgpack @ file:///opt/concourse/worker/volumes/live/790199ef-c7e3-451c-7ad3-97c9dd52a04d/volume/msgpack-python_1612287158473/work\r\n",
      "multipledispatch==0.6.0\r\n",
      "mypy-extensions==0.4.3\r\n",
      "navigator-updater==0.2.1\r\n",
      "nbclient @ file:///tmp/build/80754af9/nbclient_1613676291033/work\r\n",
      "nbconvert @ file:///opt/concourse/worker/volumes/live/d4b0787b-b6c8-4d28-5453-3381885d5b33/volume/nbconvert_1601914848300/work\r\n",
      "nbformat @ file:///tmp/build/80754af9/nbformat_1610738111109/work\r\n",
      "nest-asyncio @ file:///tmp/build/80754af9/nest-asyncio_1613680548246/work\r\n",
      "networkx @ file:///tmp/build/80754af9/networkx_1598376031484/work\r\n",
      "nltk @ file:///tmp/build/80754af9/nltk_1592496090529/work\r\n",
      "nose @ file:///tmp/build/80754af9/nose_1606773131901/work\r\n",
      "notebook==6.0.3\r\n",
      "numba @ file:///opt/concourse/worker/volumes/live/a92243fb-d564-44ee-7f97-342ce782c8cc/volume/numba_1600108029490/work\r\n",
      "numexpr @ file:///opt/concourse/worker/volumes/live/c18c3d5e-dc79-4b6b-6b23-59acb6850096/volume/numexpr_1609354654585/work\r\n",
      "numpy @ file:///opt/concourse/worker/volumes/live/a1b5ea96-b05c-40ba-5dfb-4542ece1c186/volume/numpy_and_numpy_base_1603491228242/work\r\n",
      "numpydoc @ file:///tmp/build/80754af9/numpydoc_1605117425582/work\r\n",
      "oauthlib==3.1.0\r\n",
      "odo==0.5.1\r\n",
      "olefile==0.46\r\n",
      "openpyxl @ file:///tmp/build/80754af9/openpyxl_1610651698508/work\r\n",
      "opt-einsum==3.3.0\r\n",
      "packaging @ file:///tmp/build/80754af9/packaging_1611952188834/work\r\n",
      "pandas==1.2.2\r\n",
      "pandocfilters @ file:///opt/concourse/worker/volumes/live/315ac9bb-93fd-4adc-6795-345692fcfaed/volume/pandocfilters_1605120446899/work\r\n",
      "parso==0.7.0\r\n",
      "partd==1.1.0\r\n",
      "path @ file:///opt/concourse/worker/volumes/live/b3471744-1b64-48fc-4549-9699e6e73058/volume/path_1614022205520/work\r\n",
      "pathlib2 @ file:///opt/concourse/worker/volumes/live/8e57d73a-998f-4fa8-5295-7c064efc1e48/volume/pathlib2_1607024984248/work\r\n",
      "pathspec==0.7.0\r\n",
      "pathtools==0.1.2\r\n",
      "patsy==0.5.1\r\n",
      "pep8==1.7.1\r\n",
      "pexpect @ file:///tmp/build/80754af9/pexpect_1605563209008/work\r\n",
      "pickleshare @ file:///tmp/build/80754af9/pickleshare_1606932040724/work\r\n",
      "Pillow @ file:///opt/concourse/worker/volumes/live/dfab893a-afa4-4cd2-5a7e-fb894890ea44/volume/pillow_1609786793862/work\r\n",
      "pkginfo==1.7.0\r\n",
      "pluggy==0.13.1\r",
      "\r\n",
      "ply==3.11\r\n",
      "prometheus-client @ file:///tmp/build/80754af9/prometheus_client_1606344362066/work\r\n",
      "prompt-toolkit @ file:///tmp/build/80754af9/prompt-toolkit_1602688806899/work\r\n",
      "protobuf==3.15.3\r\n",
      "psutil @ file:///opt/concourse/worker/volumes/live/8e01e0e9-ea07-4efa-7afb-fae37c1b9faa/volume/psutil_1612298009056/work\r\n",
      "ptyprocess @ file:///tmp/build/80754af9/ptyprocess_1609355006118/work/dist/ptyprocess-0.7.0-py2.py3-none-any.whl\r\n",
      "py @ file:///tmp/build/80754af9/py_1607971587848/work\r\n",
      "pyasn1==0.4.8\r\n",
      "pyasn1-modules==0.2.8\r\n",
      "pycodestyle @ file:///home/ktietz/src/ci_mi/pycodestyle_1612807597675/work\r\n",
      "pycosat==0.6.3\r\n",
      "pycparser @ file:///tmp/build/80754af9/pycparser_1594388511720/work\r\n",
      "pycrypto==2.6.1\r\n",
      "pycurl==7.43.0.2\r\n",
      "pydocstyle @ file:///tmp/build/80754af9/pydocstyle_1598885001695/work\r\n",
      "pyflakes @ file:///home/ktietz/src/ci_ipy2/pyflakes_1612551159640/work\r\n",
      "Pygments @ file:///tmp/build/80754af9/pygments_1613849567472/work\r\n",
      "PyHamcrest @ file:///tmp/build/80754af9/pyhamcrest_1594390921726/work\r\n",
      "pylint @ file:///opt/concourse/worker/volumes/live/23087216-c4d8-4bb2-69cc-3ff6c1992689/volume/pylint_1614365863433/work\r\n",
      "pyls-black @ file:///tmp/build/80754af9/pyls-black_1607553132291/work\r\n",
      "pyls-spyder @ file:///tmp/build/80754af9/pyls-spyder_1613849700860/work\r\n",
      "pyodbc===4.0.0-unsupported\r\n",
      "pyOpenSSL==19.0.0\r\n",
      "pyparsing @ file:///home/linux1/recipes/ci/pyparsing_1610983426697/work\r\n",
      "pyrsistent @ file:///opt/concourse/worker/volumes/live/656e0c1b-ef87-4251-4a51-1290b2351993/volume/pyrsistent_1600141745371/work\r\n",
      "PySocks @ file:///opt/concourse/worker/volumes/live/ef943889-94fc-4539-798d-461c60b77804/volume/pysocks_1605305801690/work\r\n",
      "pytest==6.2.2\r\n",
      "pytest-arraydiff==0.3\r\n",
      "pytest-astropy @ file:///home/ktietz/src/ci_ipy2/pytest-astropy_1612520838567/work\r\n",
      "pytest-astropy-header @ file:///home/ktietz/src/ci_ipy2/pytest-astropy-header_1612520851504/work\r\n",
      "pytest-doctestplus @ file:///tmp/build/80754af9/pytest-doctestplus_1610738947464/work\r\n",
      "pytest-openfiles @ file:///home/ktietz/src/ci_ipy2/pytest-openfiles_1612521034591/work\r\n",
      "pytest-remotedata==0.3.2\r\n",
      "python-dateutil @ file:///home/ktietz/src/ci/python-dateutil_1611928101742/work\r\n",
      "python-jsonrpc-server @ file:///tmp/build/80754af9/python-jsonrpc-server_1600278539111/work\r\n",
      "python-language-server @ file:///tmp/build/80754af9/python-language-server_1607972495879/work\r\n",
      "pytz @ file:///tmp/build/80754af9/pytz_1612215392582/work\r\n",
      "PyWavelets @ file:///opt/concourse/worker/volumes/live/4c8a2af4-1e43-4df6-4c7a-c73342176802/volume/pywavelets_1601658329224/work\r\n",
      "PyYAML==5.4.1\r\n",
      "pyzmq==20.0.0\r\n",
      "QDarkStyle==2.8.1\r\n",
      "QtAwesome @ file:///tmp/build/80754af9/qtawesome_1602272867890/work\r\n",
      "qtconsole @ file:///tmp/build/80754af9/qtconsole_1612458529756/work\r\n",
      "QtPy==1.9.0\r\n",
      "regex @ file:///opt/concourse/worker/volumes/live/75a20732-2306-4d51-79ce-516009aca709/volume/regex_1606773011423/work\r\n",
      "requests @ file:///tmp/build/80754af9/requests_1608241421344/work\r\n",
      "requests-oauthlib==1.3.0\r\n",
      "rope @ file:///tmp/build/80754af9/rope_1602264064449/work\r\n",
      "rsa==4.7.2\r\n",
      "ruamel-yaml==0.15.87\r\n",
      "scikit-image==0.16.2\r\n",
      "scikit-learn @ file:///opt/concourse/worker/volumes/live/2dacdc11-21e7-44f5-57b4-6b8eb6ceb626/volume/scikit-learn_1598376924598/work\r\n",
      "scipy @ file:///opt/concourse/worker/volumes/live/ddcf9d39-c185-4171-5824-1a3a0e6d077d/volume/scipy_1614022795557/work\r\n",
      "seaborn @ file:///tmp/build/80754af9/seaborn_1608578541026/work\r\n",
      "Send2Trash @ file:///tmp/build/80754af9/send2trash_1607525499227/work\r\n",
      "service-identity==18.1.0\r\n",
      "simplegeneric==0.8.1\r\n",
      "singledispatch @ file:///tmp/build/80754af9/singledispatch_1614023095590/work\r\n",
      "six @ file:///opt/concourse/worker/volumes/live/f983ba11-c9fe-4dff-7ce7-d89b95b09771/volume/six_1605205318156/work\r\n",
      "snowballstemmer @ file:///tmp/build/80754af9/snowballstemmer_1611258885636/work\r\n",
      "sortedcollections @ file:///tmp/build/80754af9/sortedcollections_1611172717284/work\r\n",
      "sortedcontainers @ file:///tmp/build/80754af9/sortedcontainers_1606865132123/work\r\n",
      "soupsieve @ file:///tmp/build/80754af9/soupsieve_1614023247537/work\r\n",
      "Sphinx @ file:///tmp/build/80754af9/sphinx_1614023429948/work\r\n",
      "sphinxcontrib-applehelp @ file:///home/ktietz/src/ci/sphinxcontrib-applehelp_1611920841464/work\r\n",
      "sphinxcontrib-devhelp @ file:///home/ktietz/src/ci/sphinxcontrib-devhelp_1611920923094/work\r\n",
      "sphinxcontrib-htmlhelp @ file:///home/ktietz/src/ci/sphinxcontrib-htmlhelp_1611920974801/work\r\n",
      "sphinxcontrib-jsmath @ file:///home/ktietz/src/ci/sphinxcontrib-jsmath_1611920942228/work\r\n",
      "sphinxcontrib-qthelp @ file:///home/ktietz/src/ci/sphinxcontrib-qthelp_1611921055322/work\r\n",
      "sphinxcontrib-serializinghtml @ file:///home/ktietz/src/ci/sphinxcontrib-serializinghtml_1611920755253/work\r\n",
      "sphinxcontrib-websupport @ file:///tmp/build/80754af9/sphinxcontrib-websupport_1597081412696/work\r\n",
      "spyder==3.3.2\r\n",
      "spyder-kernels==0.2.6\r\n",
      "SQLAlchemy @ file:///opt/concourse/worker/volumes/live/d97f0cdc-8dfd-4e6b-7f55-6ab4d8a970b2/volume/sqlalchemy_1612467551203/work\r\n",
      "statsmodels @ file:///opt/concourse/worker/volumes/live/ad2325f1-005b-4882-5896-b1e5f01ee884/volume/statsmodels_1614023733346/work\r\n",
      "sympy @ file:///opt/concourse/worker/volumes/live/347e855c-d365-447b-5b46-aa042092978f/volume/sympy_1608137682049/work\r\n",
      "tables==3.6.1\r\n",
      "tblib @ file:///tmp/build/80754af9/tblib_1597928476713/work\r\n",
      "tensorboard==2.4.1\r\n",
      "tensorboard-plugin-wit==1.8.0\r\n",
      "tensorflow==2.4.1\r\n",
      "tensorflow-estimator==2.4.0\r\n",
      "termcolor==1.1.0\r\n",
      "terminado==0.9.2\r\n",
      "testpath @ file:///home/ktietz/src/ci/testpath_1611930608132/work\r\n",
      "textblob==0.15.3\r\n",
      "textdistance @ file:///tmp/build/80754af9/textdistance_1612461398012/work\r\n",
      "threadpoolctl @ file:///tmp/tmp9twdgx9k/threadpoolctl-2.1.0-py3-none-any.whl\r\n",
      "three-merge @ file:///tmp/build/80754af9/three-merge_1607553261110/work\r\n",
      "tifffile @ file:///tmp/build/80754af9/tifffile_1610739638720/work\r\n",
      "toml @ file:///tmp/build/80754af9/toml_1592853716807/work\r\n",
      "toolz @ file:///home/linux1/recipes/ci/toolz_1610987900194/work\r\n",
      "tornado @ file:///opt/concourse/worker/volumes/live/d531d395-893c-4ca1-6a5f-717b318eb08c/volume/tornado_1606942307627/work\r\n",
      "tqdm @ file:///tmp/build/80754af9/tqdm_1611857934208/work\r\n",
      "traitlets @ file:///home/ktietz/src/ci/traitlets_1611929699868/work\r\n",
      "tweepy==3.10.0\r\n",
      "tweet-preprocessor==0.6.0\r\n",
      "Twisted @ file:///opt/concourse/worker/volumes/live/ed8a4816-3780-40e8-7aff-eeb5607dd597/volume/twisted_1614066190398/work\r\n",
      "typed-ast @ file:///opt/concourse/worker/volumes/live/f24de662-b4e3-467b-58a8-199787662676/volume/typed-ast_1610484563580/work\r\n",
      "typing-extensions @ file:///home/ktietz/src/ci_mi/typing_extensions_1612808209620/work\r\n",
      "ujson @ file:///opt/concourse/worker/volumes/live/cb669503-d1bd-4eaa-748a-6413c0db0db0/volume/ujson_1611259509883/work\r\n",
      "unicodecsv==0.14.1\r\n",
      "urllib3 @ file:///tmp/build/80754af9/urllib3_1611694770489/work\r\n",
      "wcwidth @ file:///tmp/build/80754af9/wcwidth_1593447189090/work\r\n",
      "webencodings==0.5.1\r\n",
      "Werkzeug @ file:///home/ktietz/src/ci/werkzeug_1611932622770/work\r\n",
      "widgetsnbextension==3.5.1\r\n",
      "wordcloud==1.8.1\r\n",
      "wrapt==1.12.1\r\n",
      "xlrd @ file:///tmp/build/80754af9/xlrd_1608072521494/work\r\n",
      "XlsxWriter @ file:///home/ktietz/src/ci_ipy2/xlsxwriter_1612556818988/work\r\n",
      "xlwings==0.22.0\r\n",
      "xlwt==1.3.0\r\n",
      "xmltodict==0.12.0\r\n",
      "yapf @ file:///tmp/build/80754af9/yapf_1593528177422/work\r\n",
      "zict==2.0.0\r\n",
      "zipp @ file:///tmp/build/80754af9/zipp_1604001098328/work\r\n",
      "zope.interface @ file:///opt/concourse/worker/volumes/live/9b4a6693-5968-464b-4257-b8041d527125/volume/zope.interface_1606940322645/work\r\n"
     ]
    }
   ],
   "source": [
    "!pip freeze"
   ]
  },
  {
   "cell_type": "code",
   "execution_count": 13,
   "id": "adolescent-stadium",
   "metadata": {},
   "outputs": [],
   "source": [
    "import tweepy\n",
    "from textblob import TextBlob\n",
    "import preprocessor as p\n",
    "import statistics\n",
    "from typing import List\n",
    "import numpy as np"
   ]
  },
  {
   "cell_type": "code",
   "execution_count": 8,
   "id": "gentle-galaxy",
   "metadata": {},
   "outputs": [],
   "source": [
    "consumer_key = 'C2yPbBxFC14dsNuekxhc5segd'\n",
    "consumer_secret = 'szQgWnWrkMTgWKt2PyCkZgdrpvhatqMxPu3hidHk4NNExR1IRV'"
   ]
  },
  {
   "cell_type": "code",
   "execution_count": 9,
   "id": "honest-output",
   "metadata": {},
   "outputs": [],
   "source": [
    "auth = tweepy.AppAuthHandler(consumer_key,consumer_secret)\n",
    "api = tweepy.API(auth)"
   ]
  },
  {
   "cell_type": "code",
   "execution_count": 10,
   "id": "durable-vault",
   "metadata": {},
   "outputs": [],
   "source": [
    "def get_tweets(keyword: str) -> List[str]:\n",
    "    \n",
    "    all_tweets = []\n",
    "    for tweet in tweepy.Cursor(api.search, q=keyword, tweet_mode='extended',lang='en').items(6000):\n",
    "        all_tweets.append(tweet.full_text)\n",
    "    \n",
    "    return all_tweets"
   ]
  },
  {
   "cell_type": "code",
   "execution_count": 11,
   "id": "future-immunology",
   "metadata": {},
   "outputs": [],
   "source": [
    "def clean_tweets(all_tweets: List[str]) -> List[str]:\n",
    "    \n",
    "    tweets_clean = []\n",
    "    for tweet in all_tweets:\n",
    "        tweets_clean.append(p.clean(tweet))\n",
    "    \n",
    "    return tweets_clean"
   ]
  },
  {
   "cell_type": "code",
   "execution_count": 15,
   "id": "critical-trance",
   "metadata": {
    "scrolled": false
   },
   "outputs": [],
   "source": [
    "data = clean_tweets(get_tweets('Covid'))"
   ]
  },
  {
   "cell_type": "code",
   "execution_count": 17,
   "id": "welsh-mining",
   "metadata": {
    "scrolled": true
   },
   "outputs": [
    {
     "data": {
      "text/plain": [
       "'WE DO NOT HAVE TO LIVE WITH COVID-19All of the deaths over the next few months are preventable. But our government has to choose to act now.'"
      ]
     },
     "execution_count": 17,
     "metadata": {},
     "output_type": "execute_result"
    }
   ],
   "source": [
    "data[1]"
   ]
  },
  {
   "cell_type": "code",
   "execution_count": 26,
   "id": "suited-couple",
   "metadata": {
    "scrolled": true
   },
   "outputs": [
    {
     "data": {
      "text/plain": [
       "6000"
      ]
     },
     "execution_count": 26,
     "metadata": {},
     "output_type": "execute_result"
    }
   ],
   "source": [
    "len(data)"
   ]
  },
  {
   "cell_type": "code",
   "execution_count": null,
   "id": "emotional-emerald",
   "metadata": {},
   "outputs": [],
   "source": [
    "import pandas as pd\n",
    "df = pd.DataFrame(data,columns=['Tweets'])"
   ]
  },
  {
   "cell_type": "code",
   "execution_count": 19,
   "id": "enabling-upper",
   "metadata": {},
   "outputs": [],
   "source": [
    "import numpy as np\n",
    "np.save('Covid_data',data)"
   ]
  },
  {
   "cell_type": "code",
   "execution_count": 23,
   "id": "coral-sentence",
   "metadata": {},
   "outputs": [],
   "source": [
    "data2 = clean_tweets(get_tweets('coronavirus'))"
   ]
  },
  {
   "cell_type": "code",
   "execution_count": 35,
   "id": "mathematical-union",
   "metadata": {},
   "outputs": [],
   "source": [
    "np.save('Covid_data2',data2)"
   ]
  },
  {
   "cell_type": "code",
   "execution_count": 1,
   "id": "cosmetic-gothic",
   "metadata": {},
   "outputs": [],
   "source": [
    "import numpy as np"
   ]
  },
  {
   "cell_type": "code",
   "execution_count": 3,
   "id": "recovered-world",
   "metadata": {},
   "outputs": [
    {
     "data": {
      "text/plain": [
       "6000"
      ]
     },
     "execution_count": 3,
     "metadata": {},
     "output_type": "execute_result"
    }
   ],
   "source": [
    "len(np.load('Covid_data.npy'))"
   ]
  },
  {
   "cell_type": "code",
   "execution_count": 27,
   "id": "corresponding-vertex",
   "metadata": {},
   "outputs": [
    {
     "data": {
      "text/plain": [
       "6000"
      ]
     },
     "execution_count": 27,
     "metadata": {},
     "output_type": "execute_result"
    }
   ],
   "source": [
    "len(data2)"
   ]
  },
  {
   "cell_type": "code",
   "execution_count": 28,
   "id": "plain-insurance",
   "metadata": {},
   "outputs": [],
   "source": [
    "df2 = pd.DataFrame(data2,columns=['Tweets'])"
   ]
  },
  {
   "cell_type": "code",
   "execution_count": 30,
   "id": "extra-bracket",
   "metadata": {},
   "outputs": [],
   "source": [
    "combined = pd.concat((df,df2),axis=0,ignore_index=True)"
   ]
  },
  {
   "cell_type": "code",
   "execution_count": 31,
   "id": "twenty-headline",
   "metadata": {
    "scrolled": true
   },
   "outputs": [
    {
     "data": {
      "text/html": [
       "<div>\n",
       "<style scoped>\n",
       "    .dataframe tbody tr th:only-of-type {\n",
       "        vertical-align: middle;\n",
       "    }\n",
       "\n",
       "    .dataframe tbody tr th {\n",
       "        vertical-align: top;\n",
       "    }\n",
       "\n",
       "    .dataframe thead th {\n",
       "        text-align: right;\n",
       "    }\n",
       "</style>\n",
       "<table border=\"1\" class=\"dataframe\">\n",
       "  <thead>\n",
       "    <tr style=\"text-align: right;\">\n",
       "      <th></th>\n",
       "      <th>Tweets</th>\n",
       "    </tr>\n",
       "  </thead>\n",
       "  <tbody>\n",
       "    <tr>\n",
       "      <th>0</th>\n",
       "      <td>: The number of people in Virginia who have be...</td>\n",
       "    </tr>\n",
       "    <tr>\n",
       "      <th>1</th>\n",
       "      <td>WE DO NOT HAVE TO LIVE WITH COVID-19All of the...</td>\n",
       "    </tr>\n",
       "    <tr>\n",
       "      <th>2</th>\n",
       "      <td>The point is that more than % of this bill sho...</td>\n",
       "    </tr>\n",
       "    <tr>\n",
       "      <th>3</th>\n",
       "      <td>: You just stepped all over your entire show o...</td>\n",
       "    </tr>\n",
       "    <tr>\n",
       "      <th>4</th>\n",
       "      <td>: People who work full time should be able to ...</td>\n",
       "    </tr>\n",
       "    <tr>\n",
       "      <th>...</th>\n",
       "      <td>...</td>\n",
       "    </tr>\n",
       "    <tr>\n",
       "      <th>11995</th>\n",
       "      <td>: \"Being a year NBA veteran doesn't protect me...</td>\n",
       "    </tr>\n",
       "    <tr>\n",
       "      <th>11996</th>\n",
       "      <td>: Anyone else think its crazy how much we used...</td>\n",
       "    </tr>\n",
       "    <tr>\n",
       "      <th>11997</th>\n",
       "      <td>: \"Being a year NBA veteran doesn't protect me...</td>\n",
       "    </tr>\n",
       "    <tr>\n",
       "      <th>11998</th>\n",
       "      <td>: Coronavirus cases are falling globally, but ...</td>\n",
       "    </tr>\n",
       "    <tr>\n",
       "      <th>11999</th>\n",
       "      <td>: bombing syria barely a month after taking of...</td>\n",
       "    </tr>\n",
       "  </tbody>\n",
       "</table>\n",
       "<p>12000 rows × 1 columns</p>\n",
       "</div>"
      ],
      "text/plain": [
       "                                                  Tweets\n",
       "0      : The number of people in Virginia who have be...\n",
       "1      WE DO NOT HAVE TO LIVE WITH COVID-19All of the...\n",
       "2      The point is that more than % of this bill sho...\n",
       "3      : You just stepped all over your entire show o...\n",
       "4      : People who work full time should be able to ...\n",
       "...                                                  ...\n",
       "11995  : \"Being a year NBA veteran doesn't protect me...\n",
       "11996  : Anyone else think its crazy how much we used...\n",
       "11997  : \"Being a year NBA veteran doesn't protect me...\n",
       "11998  : Coronavirus cases are falling globally, but ...\n",
       "11999  : bombing syria barely a month after taking of...\n",
       "\n",
       "[12000 rows x 1 columns]"
      ]
     },
     "execution_count": 31,
     "metadata": {},
     "output_type": "execute_result"
    }
   ],
   "source": [
    "combined"
   ]
  },
  {
   "cell_type": "code",
   "execution_count": 34,
   "id": "flexible-health",
   "metadata": {},
   "outputs": [],
   "source": [
    "combined.to_csv('/Users/Xingkang/Desktop/Covid_Tweets.csv')"
   ]
  }
 ],
 "metadata": {
  "kernelspec": {
   "display_name": "Python 3",
   "language": "python",
   "name": "python3"
  },
  "language_info": {
   "codemirror_mode": {
    "name": "ipython",
    "version": 3
   },
   "file_extension": ".py",
   "mimetype": "text/x-python",
   "name": "python",
   "nbconvert_exporter": "python",
   "pygments_lexer": "ipython3",
   "version": "3.7.0"
  }
 },
 "nbformat": 4,
 "nbformat_minor": 5
}
